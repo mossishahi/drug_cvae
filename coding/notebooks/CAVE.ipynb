{
 "cells": [
  {
   "cell_type": "code",
   "execution_count": 21,
   "metadata": {},
   "outputs": [],
   "source": [
    "import torch"
   ]
  },
  {
   "cell_type": "code",
   "execution_count": 5,
   "metadata": {},
   "outputs": [
    {
     "data": {
      "text/plain": [
       "'/home/mossishahi/helmholtz/cvae'"
      ]
     },
     "execution_count": 5,
     "metadata": {},
     "output_type": "execute_result"
    }
   ],
   "source": [
    "import os\n",
    "os.chdir(\"/home/mossishahi/helmholtz/cvae\")\n",
    "os.getcwd()"
   ]
  },
  {
   "cell_type": "code",
   "execution_count": 2,
   "metadata": {},
   "outputs": [],
   "source": [
    "import torch"
   ]
  },
  {
   "cell_type": "code",
   "execution_count": 2,
   "metadata": {},
   "outputs": [],
   "source": [
    "import scanpy as sc\n",
    "import numpy as np\n",
    "from rdkit import Chem\n",
    "import os\n",
    "import pandas as pd\n",
    "import pickle\n",
    "import joblib\n",
    "import gc\n",
    "\n",
    "%load_ext autoreload\n",
    "%autoreload 2"
   ]
  },
  {
   "cell_type": "code",
   "execution_count": 4,
   "metadata": {},
   "outputs": [],
   "source": [
    "def save_object(path, obj, type = \"pickle\"):\n",
    "  with open(path, \"w+b\") as f:\n",
    "    if type == \"pickle\":\n",
    "      joblib.dump(obj, path)\n",
    "    elif type == \"anndata\":\n",
    "      sc.write(path, obj)\n",
    "\n",
    "def canonicalize(smile):\n",
    "  return Chem.MolToSmiles(Chem.MolFromSmiles(smile))"
   ]
  },
  {
   "cell_type": "code",
   "execution_count": 8,
   "metadata": {},
   "outputs": [],
   "source": [
    "from coding.modules import gCVAE\n",
    "from coding.modules import drugCVAE\n",
    "from coding.modules import dCVAE"
   ]
  },
  {
   "cell_type": "code",
   "execution_count": 13,
   "metadata": {},
   "outputs": [
    {
     "data": {
      "text/plain": [
       "(200, 5000)"
      ]
     },
     "execution_count": 13,
     "metadata": {},
     "output_type": "execute_result"
    }
   ],
   "source": [
    "cells.X.A.shape"
   ]
  },
  {
   "cell_type": "code",
   "execution_count": 47,
   "metadata": {},
   "outputs": [],
   "source": [
    "input_shape = cells.X.A.shape[1]\n",
    "\n",
    "# layers_args = {\n",
    "#     \"rna_input_size\": 2000,\n",
    "#     \"img_input_dim\": 96,\n",
    "#     \"rna_layers\": [512, 512],\n",
    "#     \"img_layers\": [[64], [128], [256], [512]],\n",
    "#     \"hidden_layers\": [256],\n",
    "#     \"img_input_channels\": 3,\n",
    "#     \"img_init_block_channels\": 64,\n",
    "#     \"latent_dim\": 10,\n",
    "#     \"h_dim\": 256,\n",
    "# }\n",
    "layer_args = {\n",
    "        \"rna_input_size\":input_shape,\n",
    "        \"rna_layers\":[round(0.8 * input_shape), round(0.6 * input_shape), round(0.4 * input_shape)],\n",
    "        \"hidden_layers\": [round(0.4 * input_shape)],\n",
    "        \"latent_dim\":round(0.4* drugs.shape[1]),\n",
    "        \"h_dim\": round(0.4 * input_shape),\n",
    "        }\n"
   ]
  },
  {
   "cell_type": "code",
   "execution_count": 48,
   "metadata": {},
   "outputs": [
    {
     "data": {
      "text/plain": [
       "{'rna_input_size': 5000,\n",
       " 'rna_layers': [4000, 3000, 2000],\n",
       " 'hidden_layers': [2000],\n",
       " 'latent_dim': 1360,\n",
       " 'h_dim': 2000}"
      ]
     },
     "execution_count": 48,
     "metadata": {},
     "output_type": "execute_result"
    }
   ],
   "source": [
    "layer_args"
   ]
  },
  {
   "cell_type": "code",
   "execution_count": 51,
   "metadata": {},
   "outputs": [],
   "source": [
    "\n",
    "model = dCVAE.dCVAE(layer_args, num_conditions = drugs.shape[1])\n"
   ]
  },
  {
   "cell_type": "code",
   "execution_count": 52,
   "metadata": {},
   "outputs": [
    {
     "name": "stdout",
     "output_type": "stream",
     "text": [
      "dCVAE(\n",
      "  (rna_encoder): FullyConnected(\n",
      "    (FC): Sequential(\n",
      "      (L0): Linear(in_features=8400, out_features=8400, bias=False)\n",
      "      (B0): BatchNorm1d(8400, eps=1e-05, momentum=0.1, affine=True, track_running_stats=True)\n",
      "      (A0): ReLU()\n",
      "      (D0): Dropout(p=0.2, inplace=False)\n",
      "      (L1): Linear(in_features=8400, out_features=4000, bias=False)\n",
      "      (B1): BatchNorm1d(4000, eps=1e-05, momentum=0.1, affine=True, track_running_stats=True)\n",
      "      (A1): ReLU()\n",
      "      (D1): Dropout(p=0.2, inplace=False)\n",
      "      (L2): Linear(in_features=4000, out_features=3000, bias=False)\n",
      "      (B2): BatchNorm1d(3000, eps=1e-05, momentum=0.1, affine=True, track_running_stats=True)\n",
      "      (A2): ReLU()\n",
      "      (D2): Dropout(p=0.2, inplace=False)\n",
      "      (L3): Linear(in_features=3000, out_features=2000, bias=False)\n",
      "      (B3): BatchNorm1d(2000, eps=1e-05, momentum=0.1, affine=True, track_running_stats=True)\n",
      "      (A3): ReLU()\n",
      "      (D3): Dropout(p=0.2, inplace=False)\n",
      "      (L4): Linear(in_features=2000, out_features=2000, bias=False)\n",
      "      (B4): BatchNorm1d(2000, eps=1e-05, momentum=0.1, affine=True, track_running_stats=True)\n",
      "      (A4): ReLU()\n",
      "      (D4): Dropout(p=0.2, inplace=False)\n",
      "      (L5): Linear(in_features=2000, out_features=2000, bias=False)\n",
      "      (B5): BatchNorm1d(2000, eps=1e-05, momentum=0.1, affine=True, track_running_stats=True)\n",
      "      (A5): ReLU()\n",
      "      (D5): Dropout(p=0.2, inplace=False)\n",
      "    )\n",
      "  )\n",
      "  (rna_decoder): Decoder(\n",
      "    (FC): FullyConnected(\n",
      "      (FC): Sequential(\n",
      "        (L0): Linear(in_features=2000, out_features=2000, bias=False)\n",
      "        (B0): BatchNorm1d(2000, eps=1e-05, momentum=0.1, affine=True, track_running_stats=True)\n",
      "        (A0): ReLU()\n",
      "        (D0): Dropout(p=0.2, inplace=False)\n",
      "        (L1): Linear(in_features=2000, out_features=2000, bias=False)\n",
      "        (B1): BatchNorm1d(2000, eps=1e-05, momentum=0.1, affine=True, track_running_stats=True)\n",
      "        (A1): ReLU()\n",
      "        (D1): Dropout(p=0.2, inplace=False)\n",
      "        (L2): Linear(in_features=2000, out_features=3000, bias=False)\n",
      "        (B2): BatchNorm1d(3000, eps=1e-05, momentum=0.1, affine=True, track_running_stats=True)\n",
      "        (A2): ReLU()\n",
      "        (D2): Dropout(p=0.2, inplace=False)\n",
      "        (L3): Linear(in_features=3000, out_features=4000, bias=False)\n",
      "        (B3): BatchNorm1d(4000, eps=1e-05, momentum=0.1, affine=True, track_running_stats=True)\n",
      "        (A3): ReLU()\n",
      "        (D3): Dropout(p=0.2, inplace=False)\n",
      "        (L4): Linear(in_features=4000, out_features=8400, bias=False)\n",
      "        (B4): BatchNorm1d(8400, eps=1e-05, momentum=0.1, affine=True, track_running_stats=True)\n",
      "        (A4): ReLU()\n",
      "        (D4): Dropout(p=0.2, inplace=False)\n",
      "      )\n",
      "    )\n",
      "    (output_layer): Sequential(\n",
      "      (outputL): Linear(in_features=8400, out_features=5000, bias=True)\n",
      "      (outputA): ReLU()\n",
      "    )\n",
      "  )\n",
      "  (rna_hidden_encoder): Encoder(\n",
      "    (FC): FullyConnected(\n",
      "      (FC): Sequential(\n",
      "        (L0): Linear(in_features=2000, out_features=2000, bias=False)\n",
      "        (B0): BatchNorm1d(2000, eps=1e-05, momentum=0.1, affine=True, track_running_stats=True)\n",
      "        (A0): ReLU()\n",
      "        (D0): Dropout(p=0.2, inplace=False)\n",
      "        (L1): Linear(in_features=2000, out_features=2000, bias=False)\n",
      "        (B1): BatchNorm1d(2000, eps=1e-05, momentum=0.1, affine=True, track_running_stats=True)\n",
      "        (A1): ReLU()\n",
      "        (D1): Dropout(p=0.2, inplace=False)\n",
      "      )\n",
      "    )\n",
      "    (linear_means): Linear(in_features=2000, out_features=1360, bias=True)\n",
      "    (linear_log_var): Linear(in_features=2000, out_features=1360, bias=True)\n",
      "  )\n",
      "  (rna_hidden_decoder): FullyConnected(\n",
      "    (FC): Sequential(\n",
      "      (L0): Linear(in_features=1360, out_features=2000, bias=False)\n",
      "      (B0): BatchNorm1d(2000, eps=1e-05, momentum=0.1, affine=True, track_running_stats=True)\n",
      "      (A0): ReLU()\n",
      "      (D0): Dropout(p=0.2, inplace=False)\n",
      "      (L1): Linear(in_features=2000, out_features=2000, bias=False)\n",
      "      (B1): BatchNorm1d(2000, eps=1e-05, momentum=0.1, affine=True, track_running_stats=True)\n",
      "      (A1): ReLU()\n",
      "      (D1): Dropout(p=0.2, inplace=False)\n",
      "      (L2): Linear(in_features=2000, out_features=2000, bias=False)\n",
      "      (B2): BatchNorm1d(2000, eps=1e-05, momentum=0.1, affine=True, track_running_stats=True)\n",
      "      (A2): ReLU()\n",
      "      (D2): Dropout(p=0.2, inplace=False)\n",
      "    )\n",
      "  )\n",
      ")\n"
     ]
    }
   ],
   "source": [
    "print(model)"
   ]
  },
  {
   "cell_type": "code",
   "execution_count": 6,
   "metadata": {},
   "outputs": [],
   "source": [
    "drugs = pd.read_parquet(\"./dataset/grover_base.parquet\")"
   ]
  },
  {
   "cell_type": "code",
   "execution_count": 19,
   "metadata": {},
   "outputs": [
    {
     "data": {
      "text/html": [
       "<div>\n",
       "<style scoped>\n",
       "    .dataframe tbody tr th:only-of-type {\n",
       "        vertical-align: middle;\n",
       "    }\n",
       "\n",
       "    .dataframe tbody tr th {\n",
       "        vertical-align: top;\n",
       "    }\n",
       "\n",
       "    .dataframe thead th {\n",
       "        text-align: right;\n",
       "    }\n",
       "</style>\n",
       "<table border=\"1\" class=\"dataframe\">\n",
       "  <thead>\n",
       "    <tr style=\"text-align: right;\">\n",
       "      <th></th>\n",
       "      <th>latent_1</th>\n",
       "      <th>latent_2</th>\n",
       "    </tr>\n",
       "  </thead>\n",
       "  <tbody>\n",
       "    <tr>\n",
       "      <th>O=C(O)CCc1nc(-c2ccccc2)c(-c2ccccc2)o1</th>\n",
       "      <td>0.219819</td>\n",
       "      <td>-0.434457</td>\n",
       "    </tr>\n",
       "    <tr>\n",
       "      <th>CNC(=O)Oc1ccc2c(c1)[C@]1(C)CCN(C)[C@@H]1N2C</th>\n",
       "      <td>0.173832</td>\n",
       "      <td>-0.588151</td>\n",
       "    </tr>\n",
       "  </tbody>\n",
       "</table>\n",
       "</div>"
      ],
      "text/plain": [
       "                                             latent_1  latent_2\n",
       "O=C(O)CCc1nc(-c2ccccc2)c(-c2ccccc2)o1        0.219819 -0.434457\n",
       "CNC(=O)Oc1ccc2c(c1)[C@]1(C)CCN(C)[C@@H]1N2C  0.173832 -0.588151"
      ]
     },
     "execution_count": 19,
     "metadata": {},
     "output_type": "execute_result"
    }
   ],
   "source": [
    "drugs.loc[:, [\"latent_1\", \"latent_2\"]].iloc[[1, 2]]"
   ]
  },
  {
   "cell_type": "code",
   "execution_count": 10,
   "metadata": {},
   "outputs": [],
   "source": [
    "cells = sc.read_h5ad(\"./dataset/trapnell_cpa.h5ad\")"
   ]
  },
  {
   "cell_type": "code",
   "execution_count": 11,
   "metadata": {},
   "outputs": [
    {
     "name": "stderr",
     "output_type": "stream",
     "text": [
      "Trying to set attribute `.obs` of view, copying.\n",
      "/home/mossishahi/anaconda3/envs/cvae/lib/python3.7/site-packages/pandas/core/frame.py:3678: PerformanceWarning: DataFrame is highly fragmented.  This is usually the result of calling `frame.insert` many times, which has poor performance.  Consider joining all columns at once using pd.concat(axis=1) instead.  To get a de-fragmented frame, use `newframe = frame.copy()`\n",
      "  self[col] = igetitem(value, i)\n"
     ]
    }
   ],
   "source": [
    "sample_size = 200\n",
    "cells = cells[:sample_size, :]\n",
    "indc = np.array([np.where(np.array(drugs.index) == canonicalize(smile)) for smile in cells.obs[\"SMILES\"]]).squeeze(1)[:, -1]\n",
    "cells.obs[drugs.columns] = drugs.iloc[indc, :].values"
   ]
  },
  {
   "cell_type": "code",
   "execution_count": 22,
   "metadata": {},
   "outputs": [],
   "source": [
    "a = torch.tensor([1, 2, 3])\n",
    "b = torch.tensor([1, 2, 3])"
   ]
  },
  {
   "cell_type": "code",
   "execution_count": 24,
   "metadata": {},
   "outputs": [
    {
     "data": {
      "text/plain": [
       "tensor([1, 2, 3, 1, 2, 3])"
      ]
     },
     "execution_count": 24,
     "metadata": {},
     "output_type": "execute_result"
    }
   ],
   "source": [
    "torch.cat((a, b))"
   ]
  },
  {
   "cell_type": "code",
   "execution_count": 12,
   "metadata": {},
   "outputs": [
    {
     "data": {
      "text/plain": [
       "(200, 3460)"
      ]
     },
     "execution_count": 12,
     "metadata": {},
     "output_type": "execute_result"
    }
   ],
   "source": [
    "cells.obs.shape"
   ]
  },
  {
   "cell_type": "code",
   "execution_count": 40,
   "metadata": {},
   "outputs": [],
   "source": [
    "batch = {\"rna\":torch.tensor(cells.X.A),\n",
    "        \"coord\":torch.tensor(drugs.iloc[indc, :].values)}"
   ]
  },
  {
   "cell_type": "code",
   "execution_count": 53,
   "metadata": {},
   "outputs": [
    {
     "data": {
      "text/plain": [
       "{'recon_rna': [tensor([[0.1412, 0.0000, 0.0000,  ..., 0.0000, 0.0433, 0.0000],\n",
       "          [0.0149, 0.0000, 0.0000,  ..., 0.0000, 0.0597, 0.2918],\n",
       "          [0.3296, 0.3335, 0.0000,  ..., 0.0000, 0.4789, 0.0000],\n",
       "          ...,\n",
       "          [0.0000, 0.0388, 0.0000,  ..., 0.0090, 0.0000, 0.0000],\n",
       "          [0.0000, 0.0000, 0.5995,  ..., 0.0834, 0.0000, 0.0000],\n",
       "          [0.0000, 0.0000, 0.0000,  ..., 0.0000, 0.0000, 0.0000]],\n",
       "         grad_fn=<ReluBackward0>)],\n",
       " 'z_rna': tensor([[ 0.5366,  0.5200, -0.1475,  ..., -2.5769, -0.8213,  1.5690],\n",
       "         [-0.9415, -0.6898, -0.5294,  ..., -1.5224, -0.0803,  0.5265],\n",
       "         [-2.8616,  0.6577,  2.3165,  ..., -2.0749,  0.4297,  1.0812],\n",
       "         ...,\n",
       "         [ 0.0493,  1.2766, -1.6176,  ...,  0.2115, -0.3442,  0.2219],\n",
       "         [-0.0654, -1.3924,  0.6150,  ..., -0.7794,  0.4253, -0.1874],\n",
       "         [ 2.1501, -0.6699,  1.0225,  ..., -0.5416, -0.9740,  1.2999]],\n",
       "        grad_fn=<ViewBackward>)}"
      ]
     },
     "execution_count": 53,
     "metadata": {},
     "output_type": "execute_result"
    }
   ],
   "source": [
    "model.forward(batch)"
   ]
  },
  {
   "cell_type": "code",
   "execution_count": 14,
   "metadata": {},
   "outputs": [],
   "source": [
    "cells.write(\"./dataset/sample_cells.h5ad\")"
   ]
  },
  {
   "cell_type": "code",
   "execution_count": 16,
   "metadata": {},
   "outputs": [
    {
     "name": "stdout",
     "output_type": "stream",
     "text": [
      "['latent_1', 'latent_2', 'latent_3', 'latent_4', 'latent_5', 'latent_6', 'latent_7', 'latent_8', 'latent_9', 'latent_10', 'latent_11', 'latent_12', 'latent_13', 'latent_14', 'latent_15', 'latent_16', 'latent_17', 'latent_18', 'latent_19', 'latent_20', 'latent_21', 'latent_22', 'latent_23', 'latent_24', 'latent_25', 'latent_26', 'latent_27', 'latent_28', 'latent_29', 'latent_30', 'latent_31', 'latent_32', 'latent_33', 'latent_34', 'latent_35', 'latent_36', 'latent_37', 'latent_38', 'latent_39', 'latent_40', 'latent_41', 'latent_42', 'latent_43', 'latent_44', 'latent_45', 'latent_46', 'latent_47', 'latent_48', 'latent_49', 'latent_50', 'latent_51', 'latent_52', 'latent_53', 'latent_54', 'latent_55', 'latent_56', 'latent_57', 'latent_58', 'latent_59', 'latent_60', 'latent_61', 'latent_62', 'latent_63', 'latent_64', 'latent_65', 'latent_66', 'latent_67', 'latent_68', 'latent_69', 'latent_70', 'latent_71', 'latent_72', 'latent_73', 'latent_74', 'latent_75', 'latent_76', 'latent_77', 'latent_78', 'latent_79', 'latent_80', 'latent_81', 'latent_82', 'latent_83', 'latent_84', 'latent_85', 'latent_86', 'latent_87', 'latent_88', 'latent_89', 'latent_90', 'latent_91', 'latent_92', 'latent_93', 'latent_94', 'latent_95', 'latent_96', 'latent_97', 'latent_98', 'latent_99', 'latent_100', 'latent_101', 'latent_102', 'latent_103', 'latent_104', 'latent_105', 'latent_106', 'latent_107', 'latent_108', 'latent_109', 'latent_110', 'latent_111', 'latent_112', 'latent_113', 'latent_114', 'latent_115', 'latent_116', 'latent_117', 'latent_118', 'latent_119', 'latent_120', 'latent_121', 'latent_122', 'latent_123', 'latent_124', 'latent_125', 'latent_126', 'latent_127', 'latent_128', 'latent_129', 'latent_130', 'latent_131', 'latent_132', 'latent_133', 'latent_134', 'latent_135', 'latent_136', 'latent_137', 'latent_138', 'latent_139', 'latent_140', 'latent_141', 'latent_142', 'latent_143', 'latent_144', 'latent_145', 'latent_146', 'latent_147', 'latent_148', 'latent_149', 'latent_150', 'latent_151', 'latent_152', 'latent_153', 'latent_154', 'latent_155', 'latent_156', 'latent_157', 'latent_158', 'latent_159', 'latent_160', 'latent_161', 'latent_162', 'latent_163', 'latent_164', 'latent_165', 'latent_166', 'latent_167', 'latent_168', 'latent_169', 'latent_170', 'latent_171', 'latent_172', 'latent_173', 'latent_174', 'latent_175', 'latent_176', 'latent_177', 'latent_178', 'latent_179', 'latent_180', 'latent_181', 'latent_182', 'latent_183', 'latent_184', 'latent_185', 'latent_186', 'latent_187', 'latent_188', 'latent_189', 'latent_190', 'latent_191', 'latent_192', 'latent_193', 'latent_194', 'latent_195', 'latent_196', 'latent_197', 'latent_198', 'latent_199', 'latent_200', 'latent_201', 'latent_202', 'latent_203', 'latent_204', 'latent_205', 'latent_206', 'latent_207', 'latent_208', 'latent_209', 'latent_210', 'latent_211', 'latent_212', 'latent_213', 'latent_214', 'latent_215', 'latent_216', 'latent_217', 'latent_218', 'latent_219', 'latent_220', 'latent_221', 'latent_222', 'latent_223', 'latent_224', 'latent_225', 'latent_226', 'latent_227', 'latent_228', 'latent_229', 'latent_230', 'latent_231', 'latent_232', 'latent_233', 'latent_234', 'latent_235', 'latent_236', 'latent_237', 'latent_238', 'latent_239', 'latent_240', 'latent_241', 'latent_242', 'latent_243', 'latent_244', 'latent_245', 'latent_246', 'latent_247', 'latent_248', 'latent_249', 'latent_250', 'latent_251', 'latent_252', 'latent_253', 'latent_254', 'latent_255', 'latent_256', 'latent_257', 'latent_258', 'latent_259', 'latent_260', 'latent_261', 'latent_262', 'latent_263', 'latent_264', 'latent_265', 'latent_266', 'latent_267', 'latent_268', 'latent_269', 'latent_270', 'latent_271', 'latent_272', 'latent_273', 'latent_274', 'latent_275', 'latent_276', 'latent_277', 'latent_278', 'latent_279', 'latent_280', 'latent_281', 'latent_282', 'latent_283', 'latent_284', 'latent_285', 'latent_286', 'latent_287', 'latent_288', 'latent_289', 'latent_290', 'latent_291', 'latent_292', 'latent_293', 'latent_294', 'latent_295', 'latent_296', 'latent_297', 'latent_298', 'latent_299', 'latent_300', 'latent_301', 'latent_302', 'latent_303', 'latent_304', 'latent_305', 'latent_306', 'latent_307', 'latent_308', 'latent_309', 'latent_310', 'latent_311', 'latent_312', 'latent_313', 'latent_314', 'latent_315', 'latent_316', 'latent_317', 'latent_318', 'latent_319', 'latent_320', 'latent_321', 'latent_322', 'latent_323', 'latent_324', 'latent_325', 'latent_326', 'latent_327', 'latent_328', 'latent_329', 'latent_330', 'latent_331', 'latent_332', 'latent_333', 'latent_334', 'latent_335', 'latent_336', 'latent_337', 'latent_338', 'latent_339', 'latent_340', 'latent_341', 'latent_342', 'latent_343', 'latent_344', 'latent_345', 'latent_346', 'latent_347', 'latent_348', 'latent_349', 'latent_350', 'latent_351', 'latent_352', 'latent_353', 'latent_354', 'latent_355', 'latent_356', 'latent_357', 'latent_358', 'latent_359', 'latent_360', 'latent_361', 'latent_362', 'latent_363', 'latent_364', 'latent_365', 'latent_366', 'latent_367', 'latent_368', 'latent_369', 'latent_370', 'latent_371', 'latent_372', 'latent_373', 'latent_374', 'latent_375', 'latent_376', 'latent_377', 'latent_378', 'latent_379', 'latent_380', 'latent_381', 'latent_382', 'latent_383', 'latent_384', 'latent_385', 'latent_386', 'latent_387', 'latent_388', 'latent_389', 'latent_390', 'latent_391', 'latent_392', 'latent_393', 'latent_394', 'latent_395', 'latent_396', 'latent_397', 'latent_398', 'latent_399', 'latent_400', 'latent_401', 'latent_402', 'latent_403', 'latent_404', 'latent_405', 'latent_406', 'latent_407', 'latent_408', 'latent_409', 'latent_410', 'latent_411', 'latent_412', 'latent_413', 'latent_414', 'latent_415', 'latent_416', 'latent_417', 'latent_418', 'latent_419', 'latent_420', 'latent_421', 'latent_422', 'latent_423', 'latent_424', 'latent_425', 'latent_426', 'latent_427', 'latent_428', 'latent_429', 'latent_430', 'latent_431', 'latent_432', 'latent_433', 'latent_434', 'latent_435', 'latent_436', 'latent_437', 'latent_438', 'latent_439', 'latent_440', 'latent_441', 'latent_442', 'latent_443', 'latent_444', 'latent_445', 'latent_446', 'latent_447', 'latent_448', 'latent_449', 'latent_450', 'latent_451', 'latent_452', 'latent_453', 'latent_454', 'latent_455', 'latent_456', 'latent_457', 'latent_458', 'latent_459', 'latent_460', 'latent_461', 'latent_462', 'latent_463', 'latent_464', 'latent_465', 'latent_466', 'latent_467', 'latent_468', 'latent_469', 'latent_470', 'latent_471', 'latent_472', 'latent_473', 'latent_474', 'latent_475', 'latent_476', 'latent_477', 'latent_478', 'latent_479', 'latent_480', 'latent_481', 'latent_482', 'latent_483', 'latent_484', 'latent_485', 'latent_486', 'latent_487', 'latent_488', 'latent_489', 'latent_490', 'latent_491', 'latent_492', 'latent_493', 'latent_494', 'latent_495', 'latent_496', 'latent_497', 'latent_498', 'latent_499', 'latent_500', 'latent_501', 'latent_502', 'latent_503', 'latent_504', 'latent_505', 'latent_506', 'latent_507', 'latent_508', 'latent_509', 'latent_510', 'latent_511', 'latent_512', 'latent_513', 'latent_514', 'latent_515', 'latent_516', 'latent_517', 'latent_518', 'latent_519', 'latent_520', 'latent_521', 'latent_522', 'latent_523', 'latent_524', 'latent_525', 'latent_526', 'latent_527', 'latent_528', 'latent_529', 'latent_530', 'latent_531', 'latent_532', 'latent_533', 'latent_534', 'latent_535', 'latent_536', 'latent_537', 'latent_538', 'latent_539', 'latent_540', 'latent_541', 'latent_542', 'latent_543', 'latent_544', 'latent_545', 'latent_546', 'latent_547', 'latent_548', 'latent_549', 'latent_550', 'latent_551', 'latent_552', 'latent_553', 'latent_554', 'latent_555', 'latent_556', 'latent_557', 'latent_558', 'latent_559', 'latent_560', 'latent_561', 'latent_562', 'latent_563', 'latent_564', 'latent_565', 'latent_566', 'latent_567', 'latent_568', 'latent_569', 'latent_570', 'latent_571', 'latent_572', 'latent_573', 'latent_574', 'latent_575', 'latent_576', 'latent_577', 'latent_578', 'latent_579', 'latent_580', 'latent_581', 'latent_582', 'latent_583', 'latent_584', 'latent_585', 'latent_586', 'latent_587', 'latent_588', 'latent_589', 'latent_590', 'latent_591', 'latent_592', 'latent_593', 'latent_594', 'latent_595', 'latent_596', 'latent_597', 'latent_598', 'latent_599', 'latent_600', 'latent_601', 'latent_602', 'latent_603', 'latent_604', 'latent_605', 'latent_606', 'latent_607', 'latent_608', 'latent_609', 'latent_610', 'latent_611', 'latent_612', 'latent_613', 'latent_614', 'latent_615', 'latent_616', 'latent_617', 'latent_618', 'latent_619', 'latent_620', 'latent_621', 'latent_622', 'latent_623', 'latent_624', 'latent_625', 'latent_626', 'latent_627', 'latent_628', 'latent_629', 'latent_630', 'latent_631', 'latent_632', 'latent_633', 'latent_634', 'latent_635', 'latent_636', 'latent_637', 'latent_638', 'latent_639', 'latent_640', 'latent_641', 'latent_642', 'latent_643', 'latent_644', 'latent_645', 'latent_646', 'latent_647', 'latent_648', 'latent_649', 'latent_650', 'latent_651', 'latent_652', 'latent_653', 'latent_654', 'latent_655', 'latent_656', 'latent_657', 'latent_658', 'latent_659', 'latent_660', 'latent_661', 'latent_662', 'latent_663', 'latent_664', 'latent_665', 'latent_666', 'latent_667', 'latent_668', 'latent_669', 'latent_670', 'latent_671', 'latent_672', 'latent_673', 'latent_674', 'latent_675', 'latent_676', 'latent_677', 'latent_678', 'latent_679', 'latent_680', 'latent_681', 'latent_682', 'latent_683', 'latent_684', 'latent_685', 'latent_686', 'latent_687', 'latent_688', 'latent_689', 'latent_690', 'latent_691', 'latent_692', 'latent_693', 'latent_694', 'latent_695', 'latent_696', 'latent_697', 'latent_698', 'latent_699', 'latent_700', 'latent_701', 'latent_702', 'latent_703', 'latent_704', 'latent_705', 'latent_706', 'latent_707', 'latent_708', 'latent_709', 'latent_710', 'latent_711', 'latent_712', 'latent_713', 'latent_714', 'latent_715', 'latent_716', 'latent_717', 'latent_718', 'latent_719', 'latent_720', 'latent_721', 'latent_722', 'latent_723', 'latent_724', 'latent_725', 'latent_726', 'latent_727', 'latent_728', 'latent_729', 'latent_730', 'latent_731', 'latent_732', 'latent_733', 'latent_734', 'latent_735', 'latent_736', 'latent_737', 'latent_738', 'latent_739', 'latent_740', 'latent_741', 'latent_742', 'latent_743', 'latent_744', 'latent_745', 'latent_746', 'latent_747', 'latent_748', 'latent_749', 'latent_750', 'latent_751', 'latent_752', 'latent_753', 'latent_754', 'latent_755', 'latent_756', 'latent_757', 'latent_758', 'latent_759', 'latent_760', 'latent_761', 'latent_762', 'latent_763', 'latent_764', 'latent_765', 'latent_766', 'latent_767', 'latent_768', 'latent_769', 'latent_770', 'latent_771', 'latent_772', 'latent_773', 'latent_774', 'latent_775', 'latent_776', 'latent_777', 'latent_778', 'latent_779', 'latent_780', 'latent_781', 'latent_782', 'latent_783', 'latent_784', 'latent_785', 'latent_786', 'latent_787', 'latent_788', 'latent_789', 'latent_790', 'latent_791', 'latent_792', 'latent_793', 'latent_794', 'latent_795', 'latent_796', 'latent_797', 'latent_798', 'latent_799', 'latent_800', 'latent_801', 'latent_802', 'latent_803', 'latent_804', 'latent_805', 'latent_806', 'latent_807', 'latent_808', 'latent_809', 'latent_810', 'latent_811', 'latent_812', 'latent_813', 'latent_814', 'latent_815', 'latent_816', 'latent_817', 'latent_818', 'latent_819', 'latent_820', 'latent_821', 'latent_822', 'latent_823', 'latent_824', 'latent_825', 'latent_826', 'latent_827', 'latent_828', 'latent_829', 'latent_830', 'latent_831', 'latent_832', 'latent_833', 'latent_834', 'latent_835', 'latent_836', 'latent_837', 'latent_838', 'latent_839', 'latent_840', 'latent_841', 'latent_842', 'latent_843', 'latent_844', 'latent_845', 'latent_846', 'latent_847', 'latent_848', 'latent_849', 'latent_850', 'latent_851', 'latent_852', 'latent_853', 'latent_854', 'latent_855', 'latent_856', 'latent_857', 'latent_858', 'latent_859', 'latent_860', 'latent_861', 'latent_862', 'latent_863', 'latent_864', 'latent_865', 'latent_866', 'latent_867', 'latent_868', 'latent_869', 'latent_870', 'latent_871', 'latent_872', 'latent_873', 'latent_874', 'latent_875', 'latent_876', 'latent_877', 'latent_878', 'latent_879', 'latent_880', 'latent_881', 'latent_882', 'latent_883', 'latent_884', 'latent_885', 'latent_886', 'latent_887', 'latent_888', 'latent_889', 'latent_890', 'latent_891', 'latent_892', 'latent_893', 'latent_894', 'latent_895', 'latent_896', 'latent_897', 'latent_898', 'latent_899', 'latent_900', 'latent_901', 'latent_902', 'latent_903', 'latent_904', 'latent_905', 'latent_906', 'latent_907', 'latent_908', 'latent_909', 'latent_910', 'latent_911', 'latent_912', 'latent_913', 'latent_914', 'latent_915', 'latent_916', 'latent_917', 'latent_918', 'latent_919', 'latent_920', 'latent_921', 'latent_922', 'latent_923', 'latent_924', 'latent_925', 'latent_926', 'latent_927', 'latent_928', 'latent_929', 'latent_930', 'latent_931', 'latent_932', 'latent_933', 'latent_934', 'latent_935', 'latent_936', 'latent_937', 'latent_938', 'latent_939', 'latent_940', 'latent_941', 'latent_942', 'latent_943', 'latent_944', 'latent_945', 'latent_946', 'latent_947', 'latent_948', 'latent_949', 'latent_950', 'latent_951', 'latent_952', 'latent_953', 'latent_954', 'latent_955', 'latent_956', 'latent_957', 'latent_958', 'latent_959', 'latent_960', 'latent_961', 'latent_962', 'latent_963', 'latent_964', 'latent_965', 'latent_966', 'latent_967', 'latent_968', 'latent_969', 'latent_970', 'latent_971', 'latent_972', 'latent_973', 'latent_974', 'latent_975', 'latent_976', 'latent_977', 'latent_978', 'latent_979', 'latent_980', 'latent_981', 'latent_982', 'latent_983', 'latent_984', 'latent_985', 'latent_986', 'latent_987', 'latent_988', 'latent_989', 'latent_990', 'latent_991', 'latent_992', 'latent_993', 'latent_994', 'latent_995', 'latent_996', 'latent_997', 'latent_998', 'latent_999', 'latent_1000', 'latent_1001', 'latent_1002', 'latent_1003', 'latent_1004', 'latent_1005', 'latent_1006', 'latent_1007', 'latent_1008', 'latent_1009', 'latent_1010', 'latent_1011', 'latent_1012', 'latent_1013', 'latent_1014', 'latent_1015', 'latent_1016', 'latent_1017', 'latent_1018', 'latent_1019', 'latent_1020', 'latent_1021', 'latent_1022', 'latent_1023', 'latent_1024', 'latent_1025', 'latent_1026', 'latent_1027', 'latent_1028', 'latent_1029', 'latent_1030', 'latent_1031', 'latent_1032', 'latent_1033', 'latent_1034', 'latent_1035', 'latent_1036', 'latent_1037', 'latent_1038', 'latent_1039', 'latent_1040', 'latent_1041', 'latent_1042', 'latent_1043', 'latent_1044', 'latent_1045', 'latent_1046', 'latent_1047', 'latent_1048', 'latent_1049', 'latent_1050', 'latent_1051', 'latent_1052', 'latent_1053', 'latent_1054', 'latent_1055', 'latent_1056', 'latent_1057', 'latent_1058', 'latent_1059', 'latent_1060', 'latent_1061', 'latent_1062', 'latent_1063', 'latent_1064', 'latent_1065', 'latent_1066', 'latent_1067', 'latent_1068', 'latent_1069', 'latent_1070', 'latent_1071', 'latent_1072', 'latent_1073', 'latent_1074', 'latent_1075', 'latent_1076', 'latent_1077', 'latent_1078', 'latent_1079', 'latent_1080', 'latent_1081', 'latent_1082', 'latent_1083', 'latent_1084', 'latent_1085', 'latent_1086', 'latent_1087', 'latent_1088', 'latent_1089', 'latent_1090', 'latent_1091', 'latent_1092', 'latent_1093', 'latent_1094', 'latent_1095', 'latent_1096', 'latent_1097', 'latent_1098', 'latent_1099', 'latent_1100', 'latent_1101', 'latent_1102', 'latent_1103', 'latent_1104', 'latent_1105', 'latent_1106', 'latent_1107', 'latent_1108', 'latent_1109', 'latent_1110', 'latent_1111', 'latent_1112', 'latent_1113', 'latent_1114', 'latent_1115', 'latent_1116', 'latent_1117', 'latent_1118', 'latent_1119', 'latent_1120', 'latent_1121', 'latent_1122', 'latent_1123', 'latent_1124', 'latent_1125', 'latent_1126', 'latent_1127', 'latent_1128', 'latent_1129', 'latent_1130', 'latent_1131', 'latent_1132', 'latent_1133', 'latent_1134', 'latent_1135', 'latent_1136', 'latent_1137', 'latent_1138', 'latent_1139', 'latent_1140', 'latent_1141', 'latent_1142', 'latent_1143', 'latent_1144', 'latent_1145', 'latent_1146', 'latent_1147', 'latent_1148', 'latent_1149', 'latent_1150', 'latent_1151', 'latent_1152', 'latent_1153', 'latent_1154', 'latent_1155', 'latent_1156', 'latent_1157', 'latent_1158', 'latent_1159', 'latent_1160', 'latent_1161', 'latent_1162', 'latent_1163', 'latent_1164', 'latent_1165', 'latent_1166', 'latent_1167', 'latent_1168', 'latent_1169', 'latent_1170', 'latent_1171', 'latent_1172', 'latent_1173', 'latent_1174', 'latent_1175', 'latent_1176', 'latent_1177', 'latent_1178', 'latent_1179', 'latent_1180', 'latent_1181', 'latent_1182', 'latent_1183', 'latent_1184', 'latent_1185', 'latent_1186', 'latent_1187', 'latent_1188', 'latent_1189', 'latent_1190', 'latent_1191', 'latent_1192', 'latent_1193', 'latent_1194', 'latent_1195', 'latent_1196', 'latent_1197', 'latent_1198', 'latent_1199', 'latent_1200', 'latent_1201', 'latent_1202', 'latent_1203', 'latent_1204', 'latent_1205', 'latent_1206', 'latent_1207', 'latent_1208', 'latent_1209', 'latent_1210', 'latent_1211', 'latent_1212', 'latent_1213', 'latent_1214', 'latent_1215', 'latent_1216', 'latent_1217', 'latent_1218', 'latent_1219', 'latent_1220', 'latent_1221', 'latent_1222', 'latent_1223', 'latent_1224', 'latent_1225', 'latent_1226', 'latent_1227', 'latent_1228', 'latent_1229', 'latent_1230', 'latent_1231', 'latent_1232', 'latent_1233', 'latent_1234', 'latent_1235', 'latent_1236', 'latent_1237', 'latent_1238', 'latent_1239', 'latent_1240', 'latent_1241', 'latent_1242', 'latent_1243', 'latent_1244', 'latent_1245', 'latent_1246', 'latent_1247', 'latent_1248', 'latent_1249', 'latent_1250', 'latent_1251', 'latent_1252', 'latent_1253', 'latent_1254', 'latent_1255', 'latent_1256', 'latent_1257', 'latent_1258', 'latent_1259', 'latent_1260', 'latent_1261', 'latent_1262', 'latent_1263', 'latent_1264', 'latent_1265', 'latent_1266', 'latent_1267', 'latent_1268', 'latent_1269', 'latent_1270', 'latent_1271', 'latent_1272', 'latent_1273', 'latent_1274', 'latent_1275', 'latent_1276', 'latent_1277', 'latent_1278', 'latent_1279', 'latent_1280', 'latent_1281', 'latent_1282', 'latent_1283', 'latent_1284', 'latent_1285', 'latent_1286', 'latent_1287', 'latent_1288', 'latent_1289', 'latent_1290', 'latent_1291', 'latent_1292', 'latent_1293', 'latent_1294', 'latent_1295', 'latent_1296', 'latent_1297', 'latent_1298', 'latent_1299', 'latent_1300', 'latent_1301', 'latent_1302', 'latent_1303', 'latent_1304', 'latent_1305', 'latent_1306', 'latent_1307', 'latent_1308', 'latent_1309', 'latent_1310', 'latent_1311', 'latent_1312', 'latent_1313', 'latent_1314', 'latent_1315', 'latent_1316', 'latent_1317', 'latent_1318', 'latent_1319', 'latent_1320', 'latent_1321', 'latent_1322', 'latent_1323', 'latent_1324', 'latent_1325', 'latent_1326', 'latent_1327', 'latent_1328', 'latent_1329', 'latent_1330', 'latent_1331', 'latent_1332', 'latent_1333', 'latent_1334', 'latent_1335', 'latent_1336', 'latent_1337', 'latent_1338', 'latent_1339', 'latent_1340', 'latent_1341', 'latent_1342', 'latent_1343', 'latent_1344', 'latent_1345', 'latent_1346', 'latent_1347', 'latent_1348', 'latent_1349', 'latent_1350', 'latent_1351', 'latent_1352', 'latent_1353', 'latent_1354', 'latent_1355', 'latent_1356', 'latent_1357', 'latent_1358', 'latent_1359', 'latent_1360', 'latent_1361', 'latent_1362', 'latent_1363', 'latent_1364', 'latent_1365', 'latent_1366', 'latent_1367', 'latent_1368', 'latent_1369', 'latent_1370', 'latent_1371', 'latent_1372', 'latent_1373', 'latent_1374', 'latent_1375', 'latent_1376', 'latent_1377', 'latent_1378', 'latent_1379', 'latent_1380', 'latent_1381', 'latent_1382', 'latent_1383', 'latent_1384', 'latent_1385', 'latent_1386', 'latent_1387', 'latent_1388', 'latent_1389', 'latent_1390', 'latent_1391', 'latent_1392', 'latent_1393', 'latent_1394', 'latent_1395', 'latent_1396', 'latent_1397', 'latent_1398', 'latent_1399', 'latent_1400', 'latent_1401', 'latent_1402', 'latent_1403', 'latent_1404', 'latent_1405', 'latent_1406', 'latent_1407', 'latent_1408', 'latent_1409', 'latent_1410', 'latent_1411', 'latent_1412', 'latent_1413', 'latent_1414', 'latent_1415', 'latent_1416', 'latent_1417', 'latent_1418', 'latent_1419', 'latent_1420', 'latent_1421', 'latent_1422', 'latent_1423', 'latent_1424', 'latent_1425', 'latent_1426', 'latent_1427', 'latent_1428', 'latent_1429', 'latent_1430', 'latent_1431', 'latent_1432', 'latent_1433', 'latent_1434', 'latent_1435', 'latent_1436', 'latent_1437', 'latent_1438', 'latent_1439', 'latent_1440', 'latent_1441', 'latent_1442', 'latent_1443', 'latent_1444', 'latent_1445', 'latent_1446', 'latent_1447', 'latent_1448', 'latent_1449', 'latent_1450', 'latent_1451', 'latent_1452', 'latent_1453', 'latent_1454', 'latent_1455', 'latent_1456', 'latent_1457', 'latent_1458', 'latent_1459', 'latent_1460', 'latent_1461', 'latent_1462', 'latent_1463', 'latent_1464', 'latent_1465', 'latent_1466', 'latent_1467', 'latent_1468', 'latent_1469', 'latent_1470', 'latent_1471', 'latent_1472', 'latent_1473', 'latent_1474', 'latent_1475', 'latent_1476', 'latent_1477', 'latent_1478', 'latent_1479', 'latent_1480', 'latent_1481', 'latent_1482', 'latent_1483', 'latent_1484', 'latent_1485', 'latent_1486', 'latent_1487', 'latent_1488', 'latent_1489', 'latent_1490', 'latent_1491', 'latent_1492', 'latent_1493', 'latent_1494', 'latent_1495', 'latent_1496', 'latent_1497', 'latent_1498', 'latent_1499', 'latent_1500', 'latent_1501', 'latent_1502', 'latent_1503', 'latent_1504', 'latent_1505', 'latent_1506', 'latent_1507', 'latent_1508', 'latent_1509', 'latent_1510', 'latent_1511', 'latent_1512', 'latent_1513', 'latent_1514', 'latent_1515', 'latent_1516', 'latent_1517', 'latent_1518', 'latent_1519', 'latent_1520', 'latent_1521', 'latent_1522', 'latent_1523', 'latent_1524', 'latent_1525', 'latent_1526', 'latent_1527', 'latent_1528', 'latent_1529', 'latent_1530', 'latent_1531', 'latent_1532', 'latent_1533', 'latent_1534', 'latent_1535', 'latent_1536', 'latent_1537', 'latent_1538', 'latent_1539', 'latent_1540', 'latent_1541', 'latent_1542', 'latent_1543', 'latent_1544', 'latent_1545', 'latent_1546', 'latent_1547', 'latent_1548', 'latent_1549', 'latent_1550', 'latent_1551', 'latent_1552', 'latent_1553', 'latent_1554', 'latent_1555', 'latent_1556', 'latent_1557', 'latent_1558', 'latent_1559', 'latent_1560', 'latent_1561', 'latent_1562', 'latent_1563', 'latent_1564', 'latent_1565', 'latent_1566', 'latent_1567', 'latent_1568', 'latent_1569', 'latent_1570', 'latent_1571', 'latent_1572', 'latent_1573', 'latent_1574', 'latent_1575', 'latent_1576', 'latent_1577', 'latent_1578', 'latent_1579', 'latent_1580', 'latent_1581', 'latent_1582', 'latent_1583', 'latent_1584', 'latent_1585', 'latent_1586', 'latent_1587', 'latent_1588', 'latent_1589', 'latent_1590', 'latent_1591', 'latent_1592', 'latent_1593', 'latent_1594', 'latent_1595', 'latent_1596', 'latent_1597', 'latent_1598', 'latent_1599', 'latent_1600', 'latent_1601', 'latent_1602', 'latent_1603', 'latent_1604', 'latent_1605', 'latent_1606', 'latent_1607', 'latent_1608', 'latent_1609', 'latent_1610', 'latent_1611', 'latent_1612', 'latent_1613', 'latent_1614', 'latent_1615', 'latent_1616', 'latent_1617', 'latent_1618', 'latent_1619', 'latent_1620', 'latent_1621', 'latent_1622', 'latent_1623', 'latent_1624', 'latent_1625', 'latent_1626', 'latent_1627', 'latent_1628', 'latent_1629', 'latent_1630', 'latent_1631', 'latent_1632', 'latent_1633', 'latent_1634', 'latent_1635', 'latent_1636', 'latent_1637', 'latent_1638', 'latent_1639', 'latent_1640', 'latent_1641', 'latent_1642', 'latent_1643', 'latent_1644', 'latent_1645', 'latent_1646', 'latent_1647', 'latent_1648', 'latent_1649', 'latent_1650', 'latent_1651', 'latent_1652', 'latent_1653', 'latent_1654', 'latent_1655', 'latent_1656', 'latent_1657', 'latent_1658', 'latent_1659', 'latent_1660', 'latent_1661', 'latent_1662', 'latent_1663', 'latent_1664', 'latent_1665', 'latent_1666', 'latent_1667', 'latent_1668', 'latent_1669', 'latent_1670', 'latent_1671', 'latent_1672', 'latent_1673', 'latent_1674', 'latent_1675', 'latent_1676', 'latent_1677', 'latent_1678', 'latent_1679', 'latent_1680', 'latent_1681', 'latent_1682', 'latent_1683', 'latent_1684', 'latent_1685', 'latent_1686', 'latent_1687', 'latent_1688', 'latent_1689', 'latent_1690', 'latent_1691', 'latent_1692', 'latent_1693', 'latent_1694', 'latent_1695', 'latent_1696', 'latent_1697', 'latent_1698', 'latent_1699', 'latent_1700', 'latent_1701', 'latent_1702', 'latent_1703', 'latent_1704', 'latent_1705', 'latent_1706', 'latent_1707', 'latent_1708', 'latent_1709', 'latent_1710', 'latent_1711', 'latent_1712', 'latent_1713', 'latent_1714', 'latent_1715', 'latent_1716', 'latent_1717', 'latent_1718', 'latent_1719', 'latent_1720', 'latent_1721', 'latent_1722', 'latent_1723', 'latent_1724', 'latent_1725', 'latent_1726', 'latent_1727', 'latent_1728', 'latent_1729', 'latent_1730', 'latent_1731', 'latent_1732', 'latent_1733', 'latent_1734', 'latent_1735', 'latent_1736', 'latent_1737', 'latent_1738', 'latent_1739', 'latent_1740', 'latent_1741', 'latent_1742', 'latent_1743', 'latent_1744', 'latent_1745', 'latent_1746', 'latent_1747', 'latent_1748', 'latent_1749', 'latent_1750', 'latent_1751', 'latent_1752', 'latent_1753', 'latent_1754', 'latent_1755', 'latent_1756', 'latent_1757', 'latent_1758', 'latent_1759', 'latent_1760', 'latent_1761', 'latent_1762', 'latent_1763', 'latent_1764', 'latent_1765', 'latent_1766', 'latent_1767', 'latent_1768', 'latent_1769', 'latent_1770', 'latent_1771', 'latent_1772', 'latent_1773', 'latent_1774', 'latent_1775', 'latent_1776', 'latent_1777', 'latent_1778', 'latent_1779', 'latent_1780', 'latent_1781', 'latent_1782', 'latent_1783', 'latent_1784', 'latent_1785', 'latent_1786', 'latent_1787', 'latent_1788', 'latent_1789', 'latent_1790', 'latent_1791', 'latent_1792', 'latent_1793', 'latent_1794', 'latent_1795', 'latent_1796', 'latent_1797', 'latent_1798', 'latent_1799', 'latent_1800', 'latent_1801', 'latent_1802', 'latent_1803', 'latent_1804', 'latent_1805', 'latent_1806', 'latent_1807', 'latent_1808', 'latent_1809', 'latent_1810', 'latent_1811', 'latent_1812', 'latent_1813', 'latent_1814', 'latent_1815', 'latent_1816', 'latent_1817', 'latent_1818', 'latent_1819', 'latent_1820', 'latent_1821', 'latent_1822', 'latent_1823', 'latent_1824', 'latent_1825', 'latent_1826', 'latent_1827', 'latent_1828', 'latent_1829', 'latent_1830', 'latent_1831', 'latent_1832', 'latent_1833', 'latent_1834', 'latent_1835', 'latent_1836', 'latent_1837', 'latent_1838', 'latent_1839', 'latent_1840', 'latent_1841', 'latent_1842', 'latent_1843', 'latent_1844', 'latent_1845', 'latent_1846', 'latent_1847', 'latent_1848', 'latent_1849', 'latent_1850', 'latent_1851', 'latent_1852', 'latent_1853', 'latent_1854', 'latent_1855', 'latent_1856', 'latent_1857', 'latent_1858', 'latent_1859', 'latent_1860', 'latent_1861', 'latent_1862', 'latent_1863', 'latent_1864', 'latent_1865', 'latent_1866', 'latent_1867', 'latent_1868', 'latent_1869', 'latent_1870', 'latent_1871', 'latent_1872', 'latent_1873', 'latent_1874', 'latent_1875', 'latent_1876', 'latent_1877', 'latent_1878', 'latent_1879', 'latent_1880', 'latent_1881', 'latent_1882', 'latent_1883', 'latent_1884', 'latent_1885', 'latent_1886', 'latent_1887', 'latent_1888', 'latent_1889', 'latent_1890', 'latent_1891', 'latent_1892', 'latent_1893', 'latent_1894', 'latent_1895', 'latent_1896', 'latent_1897', 'latent_1898', 'latent_1899', 'latent_1900', 'latent_1901', 'latent_1902', 'latent_1903', 'latent_1904', 'latent_1905', 'latent_1906', 'latent_1907', 'latent_1908', 'latent_1909', 'latent_1910', 'latent_1911', 'latent_1912', 'latent_1913', 'latent_1914', 'latent_1915', 'latent_1916', 'latent_1917', 'latent_1918', 'latent_1919', 'latent_1920', 'latent_1921', 'latent_1922', 'latent_1923', 'latent_1924', 'latent_1925', 'latent_1926', 'latent_1927', 'latent_1928', 'latent_1929', 'latent_1930', 'latent_1931', 'latent_1932', 'latent_1933', 'latent_1934', 'latent_1935', 'latent_1936', 'latent_1937', 'latent_1938', 'latent_1939', 'latent_1940', 'latent_1941', 'latent_1942', 'latent_1943', 'latent_1944', 'latent_1945', 'latent_1946', 'latent_1947', 'latent_1948', 'latent_1949', 'latent_1950', 'latent_1951', 'latent_1952', 'latent_1953', 'latent_1954', 'latent_1955', 'latent_1956', 'latent_1957', 'latent_1958', 'latent_1959', 'latent_1960', 'latent_1961', 'latent_1962', 'latent_1963', 'latent_1964', 'latent_1965', 'latent_1966', 'latent_1967', 'latent_1968', 'latent_1969', 'latent_1970', 'latent_1971', 'latent_1972', 'latent_1973', 'latent_1974', 'latent_1975', 'latent_1976', 'latent_1977', 'latent_1978', 'latent_1979', 'latent_1980', 'latent_1981', 'latent_1982', 'latent_1983', 'latent_1984', 'latent_1985', 'latent_1986', 'latent_1987', 'latent_1988', 'latent_1989', 'latent_1990', 'latent_1991', 'latent_1992', 'latent_1993', 'latent_1994', 'latent_1995', 'latent_1996', 'latent_1997', 'latent_1998', 'latent_1999', 'latent_2000', 'latent_2001', 'latent_2002', 'latent_2003', 'latent_2004', 'latent_2005', 'latent_2006', 'latent_2007', 'latent_2008', 'latent_2009', 'latent_2010', 'latent_2011', 'latent_2012', 'latent_2013', 'latent_2014', 'latent_2015', 'latent_2016', 'latent_2017', 'latent_2018', 'latent_2019', 'latent_2020', 'latent_2021', 'latent_2022', 'latent_2023', 'latent_2024', 'latent_2025', 'latent_2026', 'latent_2027', 'latent_2028', 'latent_2029', 'latent_2030', 'latent_2031', 'latent_2032', 'latent_2033', 'latent_2034', 'latent_2035', 'latent_2036', 'latent_2037', 'latent_2038', 'latent_2039', 'latent_2040', 'latent_2041', 'latent_2042', 'latent_2043', 'latent_2044', 'latent_2045', 'latent_2046', 'latent_2047', 'latent_2048', 'latent_2049', 'latent_2050', 'latent_2051', 'latent_2052', 'latent_2053', 'latent_2054', 'latent_2055', 'latent_2056', 'latent_2057', 'latent_2058', 'latent_2059', 'latent_2060', 'latent_2061', 'latent_2062', 'latent_2063', 'latent_2064', 'latent_2065', 'latent_2066', 'latent_2067', 'latent_2068', 'latent_2069', 'latent_2070', 'latent_2071', 'latent_2072', 'latent_2073', 'latent_2074', 'latent_2075', 'latent_2076', 'latent_2077', 'latent_2078', 'latent_2079', 'latent_2080', 'latent_2081', 'latent_2082', 'latent_2083', 'latent_2084', 'latent_2085', 'latent_2086', 'latent_2087', 'latent_2088', 'latent_2089', 'latent_2090', 'latent_2091', 'latent_2092', 'latent_2093', 'latent_2094', 'latent_2095', 'latent_2096', 'latent_2097', 'latent_2098', 'latent_2099', 'latent_2100', 'latent_2101', 'latent_2102', 'latent_2103', 'latent_2104', 'latent_2105', 'latent_2106', 'latent_2107', 'latent_2108', 'latent_2109', 'latent_2110', 'latent_2111', 'latent_2112', 'latent_2113', 'latent_2114', 'latent_2115', 'latent_2116', 'latent_2117', 'latent_2118', 'latent_2119', 'latent_2120', 'latent_2121', 'latent_2122', 'latent_2123', 'latent_2124', 'latent_2125', 'latent_2126', 'latent_2127', 'latent_2128', 'latent_2129', 'latent_2130', 'latent_2131', 'latent_2132', 'latent_2133', 'latent_2134', 'latent_2135', 'latent_2136', 'latent_2137', 'latent_2138', 'latent_2139', 'latent_2140', 'latent_2141', 'latent_2142', 'latent_2143', 'latent_2144', 'latent_2145', 'latent_2146', 'latent_2147', 'latent_2148', 'latent_2149', 'latent_2150', 'latent_2151', 'latent_2152', 'latent_2153', 'latent_2154', 'latent_2155', 'latent_2156', 'latent_2157', 'latent_2158', 'latent_2159', 'latent_2160', 'latent_2161', 'latent_2162', 'latent_2163', 'latent_2164', 'latent_2165', 'latent_2166', 'latent_2167', 'latent_2168', 'latent_2169', 'latent_2170', 'latent_2171', 'latent_2172', 'latent_2173', 'latent_2174', 'latent_2175', 'latent_2176', 'latent_2177', 'latent_2178', 'latent_2179', 'latent_2180', 'latent_2181', 'latent_2182', 'latent_2183', 'latent_2184', 'latent_2185', 'latent_2186', 'latent_2187', 'latent_2188', 'latent_2189', 'latent_2190', 'latent_2191', 'latent_2192', 'latent_2193', 'latent_2194', 'latent_2195', 'latent_2196', 'latent_2197', 'latent_2198', 'latent_2199', 'latent_2200', 'latent_2201', 'latent_2202', 'latent_2203', 'latent_2204', 'latent_2205', 'latent_2206', 'latent_2207', 'latent_2208', 'latent_2209', 'latent_2210', 'latent_2211', 'latent_2212', 'latent_2213', 'latent_2214', 'latent_2215', 'latent_2216', 'latent_2217', 'latent_2218', 'latent_2219', 'latent_2220', 'latent_2221', 'latent_2222', 'latent_2223', 'latent_2224', 'latent_2225', 'latent_2226', 'latent_2227', 'latent_2228', 'latent_2229', 'latent_2230', 'latent_2231', 'latent_2232', 'latent_2233', 'latent_2234', 'latent_2235', 'latent_2236', 'latent_2237', 'latent_2238', 'latent_2239', 'latent_2240', 'latent_2241', 'latent_2242', 'latent_2243', 'latent_2244', 'latent_2245', 'latent_2246', 'latent_2247', 'latent_2248', 'latent_2249', 'latent_2250', 'latent_2251', 'latent_2252', 'latent_2253', 'latent_2254', 'latent_2255', 'latent_2256', 'latent_2257', 'latent_2258', 'latent_2259', 'latent_2260', 'latent_2261', 'latent_2262', 'latent_2263', 'latent_2264', 'latent_2265', 'latent_2266', 'latent_2267', 'latent_2268', 'latent_2269', 'latent_2270', 'latent_2271', 'latent_2272', 'latent_2273', 'latent_2274', 'latent_2275', 'latent_2276', 'latent_2277', 'latent_2278', 'latent_2279', 'latent_2280', 'latent_2281', 'latent_2282', 'latent_2283', 'latent_2284', 'latent_2285', 'latent_2286', 'latent_2287', 'latent_2288', 'latent_2289', 'latent_2290', 'latent_2291', 'latent_2292', 'latent_2293', 'latent_2294', 'latent_2295', 'latent_2296', 'latent_2297', 'latent_2298', 'latent_2299', 'latent_2300', 'latent_2301', 'latent_2302', 'latent_2303', 'latent_2304', 'latent_2305', 'latent_2306', 'latent_2307', 'latent_2308', 'latent_2309', 'latent_2310', 'latent_2311', 'latent_2312', 'latent_2313', 'latent_2314', 'latent_2315', 'latent_2316', 'latent_2317', 'latent_2318', 'latent_2319', 'latent_2320', 'latent_2321', 'latent_2322', 'latent_2323', 'latent_2324', 'latent_2325', 'latent_2326', 'latent_2327', 'latent_2328', 'latent_2329', 'latent_2330', 'latent_2331', 'latent_2332', 'latent_2333', 'latent_2334', 'latent_2335', 'latent_2336', 'latent_2337', 'latent_2338', 'latent_2339', 'latent_2340', 'latent_2341', 'latent_2342', 'latent_2343', 'latent_2344', 'latent_2345', 'latent_2346', 'latent_2347', 'latent_2348', 'latent_2349', 'latent_2350', 'latent_2351', 'latent_2352', 'latent_2353', 'latent_2354', 'latent_2355', 'latent_2356', 'latent_2357', 'latent_2358', 'latent_2359', 'latent_2360', 'latent_2361', 'latent_2362', 'latent_2363', 'latent_2364', 'latent_2365', 'latent_2366', 'latent_2367', 'latent_2368', 'latent_2369', 'latent_2370', 'latent_2371', 'latent_2372', 'latent_2373', 'latent_2374', 'latent_2375', 'latent_2376', 'latent_2377', 'latent_2378', 'latent_2379', 'latent_2380', 'latent_2381', 'latent_2382', 'latent_2383', 'latent_2384', 'latent_2385', 'latent_2386', 'latent_2387', 'latent_2388', 'latent_2389', 'latent_2390', 'latent_2391', 'latent_2392', 'latent_2393', 'latent_2394', 'latent_2395', 'latent_2396', 'latent_2397', 'latent_2398', 'latent_2399', 'latent_2400', 'latent_2401', 'latent_2402', 'latent_2403', 'latent_2404', 'latent_2405', 'latent_2406', 'latent_2407', 'latent_2408', 'latent_2409', 'latent_2410', 'latent_2411', 'latent_2412', 'latent_2413', 'latent_2414', 'latent_2415', 'latent_2416', 'latent_2417', 'latent_2418', 'latent_2419', 'latent_2420', 'latent_2421', 'latent_2422', 'latent_2423', 'latent_2424', 'latent_2425', 'latent_2426', 'latent_2427', 'latent_2428', 'latent_2429', 'latent_2430', 'latent_2431', 'latent_2432', 'latent_2433', 'latent_2434', 'latent_2435', 'latent_2436', 'latent_2437', 'latent_2438', 'latent_2439', 'latent_2440', 'latent_2441', 'latent_2442', 'latent_2443', 'latent_2444', 'latent_2445', 'latent_2446', 'latent_2447', 'latent_2448', 'latent_2449', 'latent_2450', 'latent_2451', 'latent_2452', 'latent_2453', 'latent_2454', 'latent_2455', 'latent_2456', 'latent_2457', 'latent_2458', 'latent_2459', 'latent_2460', 'latent_2461', 'latent_2462', 'latent_2463', 'latent_2464', 'latent_2465', 'latent_2466', 'latent_2467', 'latent_2468', 'latent_2469', 'latent_2470', 'latent_2471', 'latent_2472', 'latent_2473', 'latent_2474', 'latent_2475', 'latent_2476', 'latent_2477', 'latent_2478', 'latent_2479', 'latent_2480', 'latent_2481', 'latent_2482', 'latent_2483', 'latent_2484', 'latent_2485', 'latent_2486', 'latent_2487', 'latent_2488', 'latent_2489', 'latent_2490', 'latent_2491', 'latent_2492', 'latent_2493', 'latent_2494', 'latent_2495', 'latent_2496', 'latent_2497', 'latent_2498', 'latent_2499', 'latent_2500', 'latent_2501', 'latent_2502', 'latent_2503', 'latent_2504', 'latent_2505', 'latent_2506', 'latent_2507', 'latent_2508', 'latent_2509', 'latent_2510', 'latent_2511', 'latent_2512', 'latent_2513', 'latent_2514', 'latent_2515', 'latent_2516', 'latent_2517', 'latent_2518', 'latent_2519', 'latent_2520', 'latent_2521', 'latent_2522', 'latent_2523', 'latent_2524', 'latent_2525', 'latent_2526', 'latent_2527', 'latent_2528', 'latent_2529', 'latent_2530', 'latent_2531', 'latent_2532', 'latent_2533', 'latent_2534', 'latent_2535', 'latent_2536', 'latent_2537', 'latent_2538', 'latent_2539', 'latent_2540', 'latent_2541', 'latent_2542', 'latent_2543', 'latent_2544', 'latent_2545', 'latent_2546', 'latent_2547', 'latent_2548', 'latent_2549', 'latent_2550', 'latent_2551', 'latent_2552', 'latent_2553', 'latent_2554', 'latent_2555', 'latent_2556', 'latent_2557', 'latent_2558', 'latent_2559', 'latent_2560', 'latent_2561', 'latent_2562', 'latent_2563', 'latent_2564', 'latent_2565', 'latent_2566', 'latent_2567', 'latent_2568', 'latent_2569', 'latent_2570', 'latent_2571', 'latent_2572', 'latent_2573', 'latent_2574', 'latent_2575', 'latent_2576', 'latent_2577', 'latent_2578', 'latent_2579', 'latent_2580', 'latent_2581', 'latent_2582', 'latent_2583', 'latent_2584', 'latent_2585', 'latent_2586', 'latent_2587', 'latent_2588', 'latent_2589', 'latent_2590', 'latent_2591', 'latent_2592', 'latent_2593', 'latent_2594', 'latent_2595', 'latent_2596', 'latent_2597', 'latent_2598', 'latent_2599', 'latent_2600', 'latent_2601', 'latent_2602', 'latent_2603', 'latent_2604', 'latent_2605', 'latent_2606', 'latent_2607', 'latent_2608', 'latent_2609', 'latent_2610', 'latent_2611', 'latent_2612', 'latent_2613', 'latent_2614', 'latent_2615', 'latent_2616', 'latent_2617', 'latent_2618', 'latent_2619', 'latent_2620', 'latent_2621', 'latent_2622', 'latent_2623', 'latent_2624', 'latent_2625', 'latent_2626', 'latent_2627', 'latent_2628', 'latent_2629', 'latent_2630', 'latent_2631', 'latent_2632', 'latent_2633', 'latent_2634', 'latent_2635', 'latent_2636', 'latent_2637', 'latent_2638', 'latent_2639', 'latent_2640', 'latent_2641', 'latent_2642', 'latent_2643', 'latent_2644', 'latent_2645', 'latent_2646', 'latent_2647', 'latent_2648', 'latent_2649', 'latent_2650', 'latent_2651', 'latent_2652', 'latent_2653', 'latent_2654', 'latent_2655', 'latent_2656', 'latent_2657', 'latent_2658', 'latent_2659', 'latent_2660', 'latent_2661', 'latent_2662', 'latent_2663', 'latent_2664', 'latent_2665', 'latent_2666', 'latent_2667', 'latent_2668', 'latent_2669', 'latent_2670', 'latent_2671', 'latent_2672', 'latent_2673', 'latent_2674', 'latent_2675', 'latent_2676', 'latent_2677', 'latent_2678', 'latent_2679', 'latent_2680', 'latent_2681', 'latent_2682', 'latent_2683', 'latent_2684', 'latent_2685', 'latent_2686', 'latent_2687', 'latent_2688', 'latent_2689', 'latent_2690', 'latent_2691', 'latent_2692', 'latent_2693', 'latent_2694', 'latent_2695', 'latent_2696', 'latent_2697', 'latent_2698', 'latent_2699', 'latent_2700', 'latent_2701', 'latent_2702', 'latent_2703', 'latent_2704', 'latent_2705', 'latent_2706', 'latent_2707', 'latent_2708', 'latent_2709', 'latent_2710', 'latent_2711', 'latent_2712', 'latent_2713', 'latent_2714', 'latent_2715', 'latent_2716', 'latent_2717', 'latent_2718', 'latent_2719', 'latent_2720', 'latent_2721', 'latent_2722', 'latent_2723', 'latent_2724', 'latent_2725', 'latent_2726', 'latent_2727', 'latent_2728', 'latent_2729', 'latent_2730', 'latent_2731', 'latent_2732', 'latent_2733', 'latent_2734', 'latent_2735', 'latent_2736', 'latent_2737', 'latent_2738', 'latent_2739', 'latent_2740', 'latent_2741', 'latent_2742', 'latent_2743', 'latent_2744', 'latent_2745', 'latent_2746', 'latent_2747', 'latent_2748', 'latent_2749', 'latent_2750', 'latent_2751', 'latent_2752', 'latent_2753', 'latent_2754', 'latent_2755', 'latent_2756', 'latent_2757', 'latent_2758', 'latent_2759', 'latent_2760', 'latent_2761', 'latent_2762', 'latent_2763', 'latent_2764', 'latent_2765', 'latent_2766', 'latent_2767', 'latent_2768', 'latent_2769', 'latent_2770', 'latent_2771', 'latent_2772', 'latent_2773', 'latent_2774', 'latent_2775', 'latent_2776', 'latent_2777', 'latent_2778', 'latent_2779', 'latent_2780', 'latent_2781', 'latent_2782', 'latent_2783', 'latent_2784', 'latent_2785', 'latent_2786', 'latent_2787', 'latent_2788', 'latent_2789', 'latent_2790', 'latent_2791', 'latent_2792', 'latent_2793', 'latent_2794', 'latent_2795', 'latent_2796', 'latent_2797', 'latent_2798', 'latent_2799', 'latent_2800', 'latent_2801', 'latent_2802', 'latent_2803', 'latent_2804', 'latent_2805', 'latent_2806', 'latent_2807', 'latent_2808', 'latent_2809', 'latent_2810', 'latent_2811', 'latent_2812', 'latent_2813', 'latent_2814', 'latent_2815', 'latent_2816', 'latent_2817', 'latent_2818', 'latent_2819', 'latent_2820', 'latent_2821', 'latent_2822', 'latent_2823', 'latent_2824', 'latent_2825', 'latent_2826', 'latent_2827', 'latent_2828', 'latent_2829', 'latent_2830', 'latent_2831', 'latent_2832', 'latent_2833', 'latent_2834', 'latent_2835', 'latent_2836', 'latent_2837', 'latent_2838', 'latent_2839', 'latent_2840', 'latent_2841', 'latent_2842', 'latent_2843', 'latent_2844', 'latent_2845', 'latent_2846', 'latent_2847', 'latent_2848', 'latent_2849', 'latent_2850', 'latent_2851', 'latent_2852', 'latent_2853', 'latent_2854', 'latent_2855', 'latent_2856', 'latent_2857', 'latent_2858', 'latent_2859', 'latent_2860', 'latent_2861', 'latent_2862', 'latent_2863', 'latent_2864', 'latent_2865', 'latent_2866', 'latent_2867', 'latent_2868', 'latent_2869', 'latent_2870', 'latent_2871', 'latent_2872', 'latent_2873', 'latent_2874', 'latent_2875', 'latent_2876', 'latent_2877', 'latent_2878', 'latent_2879', 'latent_2880', 'latent_2881', 'latent_2882', 'latent_2883', 'latent_2884', 'latent_2885', 'latent_2886', 'latent_2887', 'latent_2888', 'latent_2889', 'latent_2890', 'latent_2891', 'latent_2892', 'latent_2893', 'latent_2894', 'latent_2895', 'latent_2896', 'latent_2897', 'latent_2898', 'latent_2899', 'latent_2900', 'latent_2901', 'latent_2902', 'latent_2903', 'latent_2904', 'latent_2905', 'latent_2906', 'latent_2907', 'latent_2908', 'latent_2909', 'latent_2910', 'latent_2911', 'latent_2912', 'latent_2913', 'latent_2914', 'latent_2915', 'latent_2916', 'latent_2917', 'latent_2918', 'latent_2919', 'latent_2920', 'latent_2921', 'latent_2922', 'latent_2923', 'latent_2924', 'latent_2925', 'latent_2926', 'latent_2927', 'latent_2928', 'latent_2929', 'latent_2930', 'latent_2931', 'latent_2932', 'latent_2933', 'latent_2934', 'latent_2935', 'latent_2936', 'latent_2937', 'latent_2938', 'latent_2939', 'latent_2940', 'latent_2941', 'latent_2942', 'latent_2943', 'latent_2944', 'latent_2945', 'latent_2946', 'latent_2947', 'latent_2948', 'latent_2949', 'latent_2950', 'latent_2951', 'latent_2952', 'latent_2953', 'latent_2954', 'latent_2955', 'latent_2956', 'latent_2957', 'latent_2958', 'latent_2959', 'latent_2960', 'latent_2961', 'latent_2962', 'latent_2963', 'latent_2964', 'latent_2965', 'latent_2966', 'latent_2967', 'latent_2968', 'latent_2969', 'latent_2970', 'latent_2971', 'latent_2972', 'latent_2973', 'latent_2974', 'latent_2975', 'latent_2976', 'latent_2977', 'latent_2978', 'latent_2979', 'latent_2980', 'latent_2981', 'latent_2982', 'latent_2983', 'latent_2984', 'latent_2985', 'latent_2986', 'latent_2987', 'latent_2988', 'latent_2989', 'latent_2990', 'latent_2991', 'latent_2992', 'latent_2993', 'latent_2994', 'latent_2995', 'latent_2996', 'latent_2997', 'latent_2998', 'latent_2999', 'latent_3000', 'latent_3001', 'latent_3002', 'latent_3003', 'latent_3004', 'latent_3005', 'latent_3006', 'latent_3007', 'latent_3008', 'latent_3009', 'latent_3010', 'latent_3011', 'latent_3012', 'latent_3013', 'latent_3014', 'latent_3015', 'latent_3016', 'latent_3017', 'latent_3018', 'latent_3019', 'latent_3020', 'latent_3021', 'latent_3022', 'latent_3023', 'latent_3024', 'latent_3025', 'latent_3026', 'latent_3027', 'latent_3028', 'latent_3029', 'latent_3030', 'latent_3031', 'latent_3032', 'latent_3033', 'latent_3034', 'latent_3035', 'latent_3036', 'latent_3037', 'latent_3038', 'latent_3039', 'latent_3040', 'latent_3041', 'latent_3042', 'latent_3043', 'latent_3044', 'latent_3045', 'latent_3046', 'latent_3047', 'latent_3048', 'latent_3049', 'latent_3050', 'latent_3051', 'latent_3052', 'latent_3053', 'latent_3054', 'latent_3055', 'latent_3056', 'latent_3057', 'latent_3058', 'latent_3059', 'latent_3060', 'latent_3061', 'latent_3062', 'latent_3063', 'latent_3064', 'latent_3065', 'latent_3066', 'latent_3067', 'latent_3068', 'latent_3069', 'latent_3070', 'latent_3071', 'latent_3072', 'latent_3073', 'latent_3074', 'latent_3075', 'latent_3076', 'latent_3077', 'latent_3078', 'latent_3079', 'latent_3080', 'latent_3081', 'latent_3082', 'latent_3083', 'latent_3084', 'latent_3085', 'latent_3086', 'latent_3087', 'latent_3088', 'latent_3089', 'latent_3090', 'latent_3091', 'latent_3092', 'latent_3093', 'latent_3094', 'latent_3095', 'latent_3096', 'latent_3097', 'latent_3098', 'latent_3099', 'latent_3100', 'latent_3101', 'latent_3102', 'latent_3103', 'latent_3104', 'latent_3105', 'latent_3106', 'latent_3107', 'latent_3108', 'latent_3109', 'latent_3110', 'latent_3111', 'latent_3112', 'latent_3113', 'latent_3114', 'latent_3115', 'latent_3116', 'latent_3117', 'latent_3118', 'latent_3119', 'latent_3120', 'latent_3121', 'latent_3122', 'latent_3123', 'latent_3124', 'latent_3125', 'latent_3126', 'latent_3127', 'latent_3128', 'latent_3129', 'latent_3130', 'latent_3131', 'latent_3132', 'latent_3133', 'latent_3134', 'latent_3135', 'latent_3136', 'latent_3137', 'latent_3138', 'latent_3139', 'latent_3140', 'latent_3141', 'latent_3142', 'latent_3143', 'latent_3144', 'latent_3145', 'latent_3146', 'latent_3147', 'latent_3148', 'latent_3149', 'latent_3150', 'latent_3151', 'latent_3152', 'latent_3153', 'latent_3154', 'latent_3155', 'latent_3156', 'latent_3157', 'latent_3158', 'latent_3159', 'latent_3160', 'latent_3161', 'latent_3162', 'latent_3163', 'latent_3164', 'latent_3165', 'latent_3166', 'latent_3167', 'latent_3168', 'latent_3169', 'latent_3170', 'latent_3171', 'latent_3172', 'latent_3173', 'latent_3174', 'latent_3175', 'latent_3176', 'latent_3177', 'latent_3178', 'latent_3179', 'latent_3180', 'latent_3181', 'latent_3182', 'latent_3183', 'latent_3184', 'latent_3185', 'latent_3186', 'latent_3187', 'latent_3188', 'latent_3189', 'latent_3190', 'latent_3191', 'latent_3192', 'latent_3193', 'latent_3194', 'latent_3195', 'latent_3196', 'latent_3197', 'latent_3198', 'latent_3199', 'latent_3200', 'latent_3201', 'latent_3202', 'latent_3203', 'latent_3204', 'latent_3205', 'latent_3206', 'latent_3207', 'latent_3208', 'latent_3209', 'latent_3210', 'latent_3211', 'latent_3212', 'latent_3213', 'latent_3214', 'latent_3215', 'latent_3216', 'latent_3217', 'latent_3218', 'latent_3219', 'latent_3220', 'latent_3221', 'latent_3222', 'latent_3223', 'latent_3224', 'latent_3225', 'latent_3226', 'latent_3227', 'latent_3228', 'latent_3229', 'latent_3230', 'latent_3231', 'latent_3232', 'latent_3233', 'latent_3234', 'latent_3235', 'latent_3236', 'latent_3237', 'latent_3238', 'latent_3239', 'latent_3240', 'latent_3241', 'latent_3242', 'latent_3243', 'latent_3244', 'latent_3245', 'latent_3246', 'latent_3247', 'latent_3248', 'latent_3249', 'latent_3250', 'latent_3251', 'latent_3252', 'latent_3253', 'latent_3254', 'latent_3255', 'latent_3256', 'latent_3257', 'latent_3258', 'latent_3259', 'latent_3260', 'latent_3261', 'latent_3262', 'latent_3263', 'latent_3264', 'latent_3265', 'latent_3266', 'latent_3267', 'latent_3268', 'latent_3269', 'latent_3270', 'latent_3271', 'latent_3272', 'latent_3273', 'latent_3274', 'latent_3275', 'latent_3276', 'latent_3277', 'latent_3278', 'latent_3279', 'latent_3280', 'latent_3281', 'latent_3282', 'latent_3283', 'latent_3284', 'latent_3285', 'latent_3286', 'latent_3287', 'latent_3288', 'latent_3289', 'latent_3290', 'latent_3291', 'latent_3292', 'latent_3293', 'latent_3294', 'latent_3295', 'latent_3296', 'latent_3297', 'latent_3298', 'latent_3299', 'latent_3300', 'latent_3301', 'latent_3302', 'latent_3303', 'latent_3304', 'latent_3305', 'latent_3306', 'latent_3307', 'latent_3308', 'latent_3309', 'latent_3310', 'latent_3311', 'latent_3312', 'latent_3313', 'latent_3314', 'latent_3315', 'latent_3316', 'latent_3317', 'latent_3318', 'latent_3319', 'latent_3320', 'latent_3321', 'latent_3322', 'latent_3323', 'latent_3324', 'latent_3325', 'latent_3326', 'latent_3327', 'latent_3328', 'latent_3329', 'latent_3330', 'latent_3331', 'latent_3332', 'latent_3333', 'latent_3334', 'latent_3335', 'latent_3336', 'latent_3337', 'latent_3338', 'latent_3339', 'latent_3340', 'latent_3341', 'latent_3342', 'latent_3343', 'latent_3344', 'latent_3345', 'latent_3346', 'latent_3347', 'latent_3348', 'latent_3349', 'latent_3350', 'latent_3351', 'latent_3352', 'latent_3353', 'latent_3354', 'latent_3355', 'latent_3356', 'latent_3357', 'latent_3358', 'latent_3359', 'latent_3360', 'latent_3361', 'latent_3362', 'latent_3363', 'latent_3364', 'latent_3365', 'latent_3366', 'latent_3367', 'latent_3368', 'latent_3369', 'latent_3370', 'latent_3371', 'latent_3372', 'latent_3373', 'latent_3374', 'latent_3375', 'latent_3376', 'latent_3377', 'latent_3378', 'latent_3379', 'latent_3380', 'latent_3381', 'latent_3382', 'latent_3383', 'latent_3384', 'latent_3385', 'latent_3386', 'latent_3387', 'latent_3388', 'latent_3389', 'latent_3390', 'latent_3391', 'latent_3392', 'latent_3393', 'latent_3394', 'latent_3395', 'latent_3396', 'latent_3397', 'latent_3398', 'latent_3399', 'latent_3400']\n",
      "type <class 'float'>\n",
      "recloss mse\n",
      "0------\n",
      "mse\n",
      "\n",
      "INITIALIZING NEW NETWORK..............\n",
      "---------\n",
      "0.05\n",
      "[5000, 256, 64] <<<.\n",
      "Encoder Architecture:\n",
      "\tInput Layer in, out and cond: 5000 256 3400\n",
      "\tHidden Layer 1 in/out: 256 64\n",
      "\tMean/Var Layer in/out: 64 4000\n",
      "Decoder Architecture:\n",
      "\tFirst Layer in, out and cond:  4000 64 3400\n",
      "\tHidden Layer 1 in/out: 64 256\n",
      "\tOutput Layer in/out:  256 5000 \n",
      "\n"
     ]
    }
   ],
   "source": [
    "model = drugCVAE.drugCVAE(cells, drugs.columns.tolist(),latent_dim=4000)"
   ]
  },
  {
   "cell_type": "code",
   "execution_count": 17,
   "metadata": {},
   "outputs": [
    {
     "name": "stdout",
     "output_type": "stream",
     "text": [
      ">>  cpu\n",
      "Start test\n",
      "torch.Size([128, 5000])\n",
      "torch.Size([128, 5000]) shits\n",
      "here\n"
     ]
    },
    {
     "ename": "RuntimeError",
     "evalue": "size mismatch, m1: [128 x 1600], m2: [5000 x 256] at /opt/conda/conda-bld/pytorch_1579022060824/work/aten/src/TH/generic/THTensorMath.cpp:136",
     "output_type": "error",
     "traceback": [
      "\u001b[0;31m---------------------------------------------------------------------------\u001b[0m",
      "\u001b[0;31mRuntimeError\u001b[0m                              Traceback (most recent call last)",
      "\u001b[0;32m/tmp/ipykernel_52532/1676823408.py\u001b[0m in \u001b[0;36m<module>\u001b[0;34m\u001b[0m\n\u001b[0;32m----> 1\u001b[0;31m \u001b[0mmodel\u001b[0m\u001b[0;34m.\u001b[0m\u001b[0mtrain\u001b[0m\u001b[0;34m(\u001b[0m\u001b[0;34m)\u001b[0m\u001b[0;34m\u001b[0m\u001b[0;34m\u001b[0m\u001b[0m\n\u001b[0m",
      "\u001b[0;32m~/helmholtz/cvae/coding/modules/drugCVAE.py\u001b[0m in \u001b[0;36mtrain\u001b[0;34m(self, n_epochs, lr, eps, **kwargs)\u001b[0m\n\u001b[1;32m    114\u001b[0m             \u001b[0mcondition_key\u001b[0m\u001b[0;34m=\u001b[0m\u001b[0mself\u001b[0m\u001b[0;34m.\u001b[0m\u001b[0mcondition_key_\u001b[0m\u001b[0;34m,\u001b[0m\u001b[0;34m\u001b[0m\u001b[0;34m\u001b[0m\u001b[0m\n\u001b[1;32m    115\u001b[0m             **kwargs)\n\u001b[0;32m--> 116\u001b[0;31m         \u001b[0mself\u001b[0m\u001b[0;34m.\u001b[0m\u001b[0mtrainer\u001b[0m\u001b[0;34m.\u001b[0m\u001b[0mtrain\u001b[0m\u001b[0;34m(\u001b[0m\u001b[0mn_epochs\u001b[0m\u001b[0;34m,\u001b[0m \u001b[0mlr\u001b[0m\u001b[0;34m,\u001b[0m \u001b[0meps\u001b[0m\u001b[0;34m)\u001b[0m\u001b[0;34m\u001b[0m\u001b[0;34m\u001b[0m\u001b[0m\n\u001b[0m\u001b[1;32m    117\u001b[0m         \u001b[0mself\u001b[0m\u001b[0;34m.\u001b[0m\u001b[0mis_trained_\u001b[0m \u001b[0;34m=\u001b[0m \u001b[0;32mTrue\u001b[0m\u001b[0;34m\u001b[0m\u001b[0;34m\u001b[0m\u001b[0m\n\u001b[1;32m    118\u001b[0m \u001b[0;34m\u001b[0m\u001b[0m\n",
      "\u001b[0;32m~/helmholtz/cvae/coding/modules/trainer.py\u001b[0m in \u001b[0;36mtrain\u001b[0;34m(self, n_epochs, lr, eps)\u001b[0m\n\u001b[1;32m    217\u001b[0m \u001b[0;34m\u001b[0m\u001b[0m\n\u001b[1;32m    218\u001b[0m                 \u001b[0;31m# Loss Calculation\u001b[0m\u001b[0;34m\u001b[0m\u001b[0;34m\u001b[0m\u001b[0;34m\u001b[0m\u001b[0m\n\u001b[0;32m--> 219\u001b[0;31m                 \u001b[0mself\u001b[0m\u001b[0;34m.\u001b[0m\u001b[0mon_iteration\u001b[0m\u001b[0;34m(\u001b[0m\u001b[0mbatch_data\u001b[0m\u001b[0;34m)\u001b[0m\u001b[0;34m\u001b[0m\u001b[0;34m\u001b[0m\u001b[0m\n\u001b[0m\u001b[1;32m    220\u001b[0m \u001b[0;34m\u001b[0m\u001b[0m\n\u001b[1;32m    221\u001b[0m             \u001b[0;31m# Validation of Model, Monitoring, Early Stopping\u001b[0m\u001b[0;34m\u001b[0m\u001b[0;34m\u001b[0m\u001b[0;34m\u001b[0m\u001b[0m\n",
      "\u001b[0;32m~/helmholtz/cvae/coding/modules/trainer.py\u001b[0m in \u001b[0;36mon_iteration\u001b[0;34m(self, batch_data)\u001b[0m\n\u001b[1;32m    254\u001b[0m \u001b[0;34m\u001b[0m\u001b[0m\n\u001b[1;32m    255\u001b[0m         \u001b[0;31m# Calculate Loss depending on Trainer/Model\u001b[0m\u001b[0;34m\u001b[0m\u001b[0;34m\u001b[0m\u001b[0;34m\u001b[0m\u001b[0m\n\u001b[0;32m--> 256\u001b[0;31m         \u001b[0mself\u001b[0m\u001b[0;34m.\u001b[0m\u001b[0mcurrent_loss\u001b[0m \u001b[0;34m=\u001b[0m \u001b[0mloss\u001b[0m \u001b[0;34m=\u001b[0m \u001b[0mself\u001b[0m\u001b[0;34m.\u001b[0m\u001b[0mloss\u001b[0m\u001b[0;34m(\u001b[0m\u001b[0mbatch_data\u001b[0m\u001b[0;34m)\u001b[0m\u001b[0;34m\u001b[0m\u001b[0;34m\u001b[0m\u001b[0m\n\u001b[0m\u001b[1;32m    257\u001b[0m         \u001b[0mself\u001b[0m\u001b[0;34m.\u001b[0m\u001b[0moptimizer\u001b[0m\u001b[0;34m.\u001b[0m\u001b[0mzero_grad\u001b[0m\u001b[0;34m(\u001b[0m\u001b[0;34m)\u001b[0m\u001b[0;34m\u001b[0m\u001b[0;34m\u001b[0m\u001b[0m\n\u001b[1;32m    258\u001b[0m         \u001b[0mloss\u001b[0m\u001b[0;34m.\u001b[0m\u001b[0mbackward\u001b[0m\u001b[0;34m(\u001b[0m\u001b[0;34m)\u001b[0m\u001b[0;34m\u001b[0m\u001b[0;34m\u001b[0m\u001b[0m\n",
      "\u001b[0;32m~/helmholtz/cvae/coding/modules/trainer.py\u001b[0m in \u001b[0;36mloss\u001b[0;34m(self, total_batch)\u001b[0m\n\u001b[1;32m    292\u001b[0m         \u001b[0mprint\u001b[0m\u001b[0;34m(\u001b[0m\u001b[0;34m\"Start test\"\u001b[0m\u001b[0;34m)\u001b[0m\u001b[0;34m\u001b[0m\u001b[0;34m\u001b[0m\u001b[0m\n\u001b[1;32m    293\u001b[0m         \u001b[0mprint\u001b[0m\u001b[0;34m(\u001b[0m\u001b[0mtotal_batch\u001b[0m\u001b[0;34m[\u001b[0m\u001b[0;34m\"x\"\u001b[0m\u001b[0;34m]\u001b[0m\u001b[0;34m.\u001b[0m\u001b[0mshape\u001b[0m\u001b[0;34m)\u001b[0m\u001b[0;34m\u001b[0m\u001b[0;34m\u001b[0m\u001b[0m\n\u001b[0;32m--> 294\u001b[0;31m         \u001b[0mrecon_loss\u001b[0m\u001b[0;34m,\u001b[0m \u001b[0mkl_loss\u001b[0m \u001b[0;34m=\u001b[0m \u001b[0mself\u001b[0m\u001b[0;34m.\u001b[0m\u001b[0mmodel\u001b[0m\u001b[0;34m(\u001b[0m\u001b[0;34m**\u001b[0m\u001b[0mtotal_batch\u001b[0m\u001b[0;34m)\u001b[0m\u001b[0;34m\u001b[0m\u001b[0;34m\u001b[0m\u001b[0m\n\u001b[0m\u001b[1;32m    295\u001b[0m         \u001b[0mloss\u001b[0m \u001b[0;34m=\u001b[0m \u001b[0mrecon_loss\u001b[0m \u001b[0;34m+\u001b[0m \u001b[0mself\u001b[0m\u001b[0;34m.\u001b[0m\u001b[0mcalc_alpha_coeff\u001b[0m\u001b[0;34m(\u001b[0m\u001b[0;34m)\u001b[0m\u001b[0;34m*\u001b[0m\u001b[0mkl_loss\u001b[0m\u001b[0;34m\u001b[0m\u001b[0;34m\u001b[0m\u001b[0m\n\u001b[1;32m    296\u001b[0m         \u001b[0mself\u001b[0m\u001b[0;34m.\u001b[0m\u001b[0miter_logs\u001b[0m\u001b[0;34m[\u001b[0m\u001b[0;34m\"loss\"\u001b[0m\u001b[0;34m]\u001b[0m\u001b[0;34m.\u001b[0m\u001b[0mappend\u001b[0m\u001b[0;34m(\u001b[0m\u001b[0mloss\u001b[0m\u001b[0;34m.\u001b[0m\u001b[0mitem\u001b[0m\u001b[0;34m(\u001b[0m\u001b[0;34m)\u001b[0m\u001b[0;34m)\u001b[0m\u001b[0;34m\u001b[0m\u001b[0;34m\u001b[0m\u001b[0m\n",
      "\u001b[0;32m~/anaconda3/envs/cvae/lib/python3.7/site-packages/torch/nn/modules/module.py\u001b[0m in \u001b[0;36m__call__\u001b[0;34m(self, *input, **kwargs)\u001b[0m\n\u001b[1;32m    530\u001b[0m             \u001b[0mresult\u001b[0m \u001b[0;34m=\u001b[0m \u001b[0mself\u001b[0m\u001b[0;34m.\u001b[0m\u001b[0m_slow_forward\u001b[0m\u001b[0;34m(\u001b[0m\u001b[0;34m*\u001b[0m\u001b[0minput\u001b[0m\u001b[0;34m,\u001b[0m \u001b[0;34m**\u001b[0m\u001b[0mkwargs\u001b[0m\u001b[0;34m)\u001b[0m\u001b[0;34m\u001b[0m\u001b[0;34m\u001b[0m\u001b[0m\n\u001b[1;32m    531\u001b[0m         \u001b[0;32melse\u001b[0m\u001b[0;34m:\u001b[0m\u001b[0;34m\u001b[0m\u001b[0;34m\u001b[0m\u001b[0m\n\u001b[0;32m--> 532\u001b[0;31m             \u001b[0mresult\u001b[0m \u001b[0;34m=\u001b[0m \u001b[0mself\u001b[0m\u001b[0;34m.\u001b[0m\u001b[0mforward\u001b[0m\u001b[0;34m(\u001b[0m\u001b[0;34m*\u001b[0m\u001b[0minput\u001b[0m\u001b[0;34m,\u001b[0m \u001b[0;34m**\u001b[0m\u001b[0mkwargs\u001b[0m\u001b[0;34m)\u001b[0m\u001b[0;34m\u001b[0m\u001b[0;34m\u001b[0m\u001b[0m\n\u001b[0m\u001b[1;32m    533\u001b[0m         \u001b[0;32mfor\u001b[0m \u001b[0mhook\u001b[0m \u001b[0;32min\u001b[0m \u001b[0mself\u001b[0m\u001b[0;34m.\u001b[0m\u001b[0m_forward_hooks\u001b[0m\u001b[0;34m.\u001b[0m\u001b[0mvalues\u001b[0m\u001b[0;34m(\u001b[0m\u001b[0;34m)\u001b[0m\u001b[0;34m:\u001b[0m\u001b[0;34m\u001b[0m\u001b[0;34m\u001b[0m\u001b[0m\n\u001b[1;32m    534\u001b[0m             \u001b[0mhook_result\u001b[0m \u001b[0;34m=\u001b[0m \u001b[0mhook\u001b[0m\u001b[0;34m(\u001b[0m\u001b[0mself\u001b[0m\u001b[0;34m,\u001b[0m \u001b[0minput\u001b[0m\u001b[0;34m,\u001b[0m \u001b[0mresult\u001b[0m\u001b[0;34m)\u001b[0m\u001b[0;34m\u001b[0m\u001b[0;34m\u001b[0m\u001b[0m\n",
      "\u001b[0;32m~/helmholtz/cvae/coding/modules/gCVAE.py\u001b[0m in \u001b[0;36mforward\u001b[0;34m(self, x, batch, sizefactor, labeled)\u001b[0m\n\u001b[1;32m     89\u001b[0m         \u001b[0;32mif\u001b[0m \u001b[0mself\u001b[0m\u001b[0;34m.\u001b[0m\u001b[0mrecon_loss\u001b[0m \u001b[0;34m==\u001b[0m \u001b[0;34m'mse'\u001b[0m\u001b[0;34m:\u001b[0m\u001b[0;34m\u001b[0m\u001b[0;34m\u001b[0m\u001b[0m\n\u001b[1;32m     90\u001b[0m             \u001b[0mx_log\u001b[0m \u001b[0;34m=\u001b[0m \u001b[0mx\u001b[0m\u001b[0;34m\u001b[0m\u001b[0;34m\u001b[0m\u001b[0m\n\u001b[0;32m---> 91\u001b[0;31m         \u001b[0mz1_mean\u001b[0m\u001b[0;34m,\u001b[0m \u001b[0mz1_log_var\u001b[0m \u001b[0;34m=\u001b[0m \u001b[0mself\u001b[0m\u001b[0;34m.\u001b[0m\u001b[0mencoder\u001b[0m\u001b[0;34m(\u001b[0m\u001b[0mx_log\u001b[0m\u001b[0;34m,\u001b[0m \u001b[0mbatch\u001b[0m\u001b[0;34m)\u001b[0m\u001b[0;34m\u001b[0m\u001b[0;34m\u001b[0m\u001b[0m\n\u001b[0m\u001b[1;32m     92\u001b[0m         \u001b[0mz1\u001b[0m \u001b[0;34m=\u001b[0m \u001b[0mself\u001b[0m\u001b[0;34m.\u001b[0m\u001b[0msampling\u001b[0m\u001b[0;34m(\u001b[0m\u001b[0mz1_mean\u001b[0m\u001b[0;34m,\u001b[0m \u001b[0mz1_log_var\u001b[0m\u001b[0;34m)\u001b[0m\u001b[0;34m\u001b[0m\u001b[0;34m\u001b[0m\u001b[0m\n\u001b[1;32m     93\u001b[0m         \u001b[0moutputs\u001b[0m \u001b[0;34m=\u001b[0m \u001b[0mself\u001b[0m\u001b[0;34m.\u001b[0m\u001b[0mdecoder\u001b[0m\u001b[0;34m(\u001b[0m\u001b[0mz1\u001b[0m\u001b[0;34m,\u001b[0m \u001b[0mbatch\u001b[0m\u001b[0;34m)\u001b[0m\u001b[0;34m\u001b[0m\u001b[0;34m\u001b[0m\u001b[0m\n",
      "\u001b[0;32m~/anaconda3/envs/cvae/lib/python3.7/site-packages/torch/nn/modules/module.py\u001b[0m in \u001b[0;36m__call__\u001b[0;34m(self, *input, **kwargs)\u001b[0m\n\u001b[1;32m    530\u001b[0m             \u001b[0mresult\u001b[0m \u001b[0;34m=\u001b[0m \u001b[0mself\u001b[0m\u001b[0;34m.\u001b[0m\u001b[0m_slow_forward\u001b[0m\u001b[0;34m(\u001b[0m\u001b[0;34m*\u001b[0m\u001b[0minput\u001b[0m\u001b[0;34m,\u001b[0m \u001b[0;34m**\u001b[0m\u001b[0mkwargs\u001b[0m\u001b[0;34m)\u001b[0m\u001b[0;34m\u001b[0m\u001b[0;34m\u001b[0m\u001b[0m\n\u001b[1;32m    531\u001b[0m         \u001b[0;32melse\u001b[0m\u001b[0;34m:\u001b[0m\u001b[0;34m\u001b[0m\u001b[0;34m\u001b[0m\u001b[0m\n\u001b[0;32m--> 532\u001b[0;31m             \u001b[0mresult\u001b[0m \u001b[0;34m=\u001b[0m \u001b[0mself\u001b[0m\u001b[0;34m.\u001b[0m\u001b[0mforward\u001b[0m\u001b[0;34m(\u001b[0m\u001b[0;34m*\u001b[0m\u001b[0minput\u001b[0m\u001b[0;34m,\u001b[0m \u001b[0;34m**\u001b[0m\u001b[0mkwargs\u001b[0m\u001b[0;34m)\u001b[0m\u001b[0;34m\u001b[0m\u001b[0;34m\u001b[0m\u001b[0m\n\u001b[0m\u001b[1;32m    533\u001b[0m         \u001b[0;32mfor\u001b[0m \u001b[0mhook\u001b[0m \u001b[0;32min\u001b[0m \u001b[0mself\u001b[0m\u001b[0;34m.\u001b[0m\u001b[0m_forward_hooks\u001b[0m\u001b[0;34m.\u001b[0m\u001b[0mvalues\u001b[0m\u001b[0;34m(\u001b[0m\u001b[0;34m)\u001b[0m\u001b[0;34m:\u001b[0m\u001b[0;34m\u001b[0m\u001b[0;34m\u001b[0m\u001b[0m\n\u001b[1;32m    534\u001b[0m             \u001b[0mhook_result\u001b[0m \u001b[0;34m=\u001b[0m \u001b[0mhook\u001b[0m\u001b[0;34m(\u001b[0m\u001b[0mself\u001b[0m\u001b[0;34m,\u001b[0m \u001b[0minput\u001b[0m\u001b[0;34m,\u001b[0m \u001b[0mresult\u001b[0m\u001b[0;34m)\u001b[0m\u001b[0;34m\u001b[0m\u001b[0;34m\u001b[0m\u001b[0m\n",
      "\u001b[0;32m~/helmholtz/cvae/coding/modules/encoder.py\u001b[0m in \u001b[0;36mforward\u001b[0;34m(self, x, batch)\u001b[0m\n\u001b[1;32m     71\u001b[0m         \u001b[0;32mif\u001b[0m \u001b[0mself\u001b[0m\u001b[0;34m.\u001b[0m\u001b[0mFC\u001b[0m \u001b[0;32mis\u001b[0m \u001b[0;32mnot\u001b[0m \u001b[0;32mNone\u001b[0m\u001b[0;34m:\u001b[0m\u001b[0;34m\u001b[0m\u001b[0;34m\u001b[0m\u001b[0m\n\u001b[1;32m     72\u001b[0m             \u001b[0mprint\u001b[0m\u001b[0;34m(\u001b[0m\u001b[0;34m\"here\"\u001b[0m\u001b[0;34m)\u001b[0m\u001b[0;34m\u001b[0m\u001b[0;34m\u001b[0m\u001b[0m\n\u001b[0;32m---> 73\u001b[0;31m             \u001b[0mx\u001b[0m \u001b[0;34m=\u001b[0m \u001b[0mself\u001b[0m\u001b[0;34m.\u001b[0m\u001b[0mFC\u001b[0m\u001b[0;34m(\u001b[0m\u001b[0mx\u001b[0m\u001b[0;34m)\u001b[0m\u001b[0;34m\u001b[0m\u001b[0;34m\u001b[0m\u001b[0m\n\u001b[0m\u001b[1;32m     74\u001b[0m         \u001b[0mmeans\u001b[0m \u001b[0;34m=\u001b[0m \u001b[0mself\u001b[0m\u001b[0;34m.\u001b[0m\u001b[0mmean_encoder\u001b[0m\u001b[0;34m(\u001b[0m\u001b[0mx\u001b[0m\u001b[0;34m)\u001b[0m\u001b[0;34m\u001b[0m\u001b[0;34m\u001b[0m\u001b[0m\n\u001b[1;32m     75\u001b[0m         \u001b[0mprint\u001b[0m\u001b[0;34m(\u001b[0m\u001b[0;34m\"oh! shit\"\u001b[0m\u001b[0;34m,\u001b[0m \u001b[0mmeans\u001b[0m\u001b[0;34m)\u001b[0m\u001b[0;34m\u001b[0m\u001b[0;34m\u001b[0m\u001b[0m\n",
      "\u001b[0;32m~/anaconda3/envs/cvae/lib/python3.7/site-packages/torch/nn/modules/module.py\u001b[0m in \u001b[0;36m__call__\u001b[0;34m(self, *input, **kwargs)\u001b[0m\n\u001b[1;32m    530\u001b[0m             \u001b[0mresult\u001b[0m \u001b[0;34m=\u001b[0m \u001b[0mself\u001b[0m\u001b[0;34m.\u001b[0m\u001b[0m_slow_forward\u001b[0m\u001b[0;34m(\u001b[0m\u001b[0;34m*\u001b[0m\u001b[0minput\u001b[0m\u001b[0;34m,\u001b[0m \u001b[0;34m**\u001b[0m\u001b[0mkwargs\u001b[0m\u001b[0;34m)\u001b[0m\u001b[0;34m\u001b[0m\u001b[0;34m\u001b[0m\u001b[0m\n\u001b[1;32m    531\u001b[0m         \u001b[0;32melse\u001b[0m\u001b[0;34m:\u001b[0m\u001b[0;34m\u001b[0m\u001b[0;34m\u001b[0m\u001b[0m\n\u001b[0;32m--> 532\u001b[0;31m             \u001b[0mresult\u001b[0m \u001b[0;34m=\u001b[0m \u001b[0mself\u001b[0m\u001b[0;34m.\u001b[0m\u001b[0mforward\u001b[0m\u001b[0;34m(\u001b[0m\u001b[0;34m*\u001b[0m\u001b[0minput\u001b[0m\u001b[0;34m,\u001b[0m \u001b[0;34m**\u001b[0m\u001b[0mkwargs\u001b[0m\u001b[0;34m)\u001b[0m\u001b[0;34m\u001b[0m\u001b[0;34m\u001b[0m\u001b[0m\n\u001b[0m\u001b[1;32m    533\u001b[0m         \u001b[0;32mfor\u001b[0m \u001b[0mhook\u001b[0m \u001b[0;32min\u001b[0m \u001b[0mself\u001b[0m\u001b[0;34m.\u001b[0m\u001b[0m_forward_hooks\u001b[0m\u001b[0;34m.\u001b[0m\u001b[0mvalues\u001b[0m\u001b[0;34m(\u001b[0m\u001b[0;34m)\u001b[0m\u001b[0;34m:\u001b[0m\u001b[0;34m\u001b[0m\u001b[0;34m\u001b[0m\u001b[0m\n\u001b[1;32m    534\u001b[0m             \u001b[0mhook_result\u001b[0m \u001b[0;34m=\u001b[0m \u001b[0mhook\u001b[0m\u001b[0;34m(\u001b[0m\u001b[0mself\u001b[0m\u001b[0;34m,\u001b[0m \u001b[0minput\u001b[0m\u001b[0;34m,\u001b[0m \u001b[0mresult\u001b[0m\u001b[0;34m)\u001b[0m\u001b[0;34m\u001b[0m\u001b[0;34m\u001b[0m\u001b[0m\n",
      "\u001b[0;32m~/anaconda3/envs/cvae/lib/python3.7/site-packages/torch/nn/modules/container.py\u001b[0m in \u001b[0;36mforward\u001b[0;34m(self, input)\u001b[0m\n\u001b[1;32m     98\u001b[0m     \u001b[0;32mdef\u001b[0m \u001b[0mforward\u001b[0m\u001b[0;34m(\u001b[0m\u001b[0mself\u001b[0m\u001b[0;34m,\u001b[0m \u001b[0minput\u001b[0m\u001b[0;34m)\u001b[0m\u001b[0;34m:\u001b[0m\u001b[0;34m\u001b[0m\u001b[0;34m\u001b[0m\u001b[0m\n\u001b[1;32m     99\u001b[0m         \u001b[0;32mfor\u001b[0m \u001b[0mmodule\u001b[0m \u001b[0;32min\u001b[0m \u001b[0mself\u001b[0m\u001b[0;34m:\u001b[0m\u001b[0;34m\u001b[0m\u001b[0;34m\u001b[0m\u001b[0m\n\u001b[0;32m--> 100\u001b[0;31m             \u001b[0minput\u001b[0m \u001b[0;34m=\u001b[0m \u001b[0mmodule\u001b[0m\u001b[0;34m(\u001b[0m\u001b[0minput\u001b[0m\u001b[0;34m)\u001b[0m\u001b[0;34m\u001b[0m\u001b[0;34m\u001b[0m\u001b[0m\n\u001b[0m\u001b[1;32m    101\u001b[0m         \u001b[0;32mreturn\u001b[0m \u001b[0minput\u001b[0m\u001b[0;34m\u001b[0m\u001b[0;34m\u001b[0m\u001b[0m\n\u001b[1;32m    102\u001b[0m \u001b[0;34m\u001b[0m\u001b[0m\n",
      "\u001b[0;32m~/anaconda3/envs/cvae/lib/python3.7/site-packages/torch/nn/modules/module.py\u001b[0m in \u001b[0;36m__call__\u001b[0;34m(self, *input, **kwargs)\u001b[0m\n\u001b[1;32m    530\u001b[0m             \u001b[0mresult\u001b[0m \u001b[0;34m=\u001b[0m \u001b[0mself\u001b[0m\u001b[0;34m.\u001b[0m\u001b[0m_slow_forward\u001b[0m\u001b[0;34m(\u001b[0m\u001b[0;34m*\u001b[0m\u001b[0minput\u001b[0m\u001b[0;34m,\u001b[0m \u001b[0;34m**\u001b[0m\u001b[0mkwargs\u001b[0m\u001b[0;34m)\u001b[0m\u001b[0;34m\u001b[0m\u001b[0;34m\u001b[0m\u001b[0m\n\u001b[1;32m    531\u001b[0m         \u001b[0;32melse\u001b[0m\u001b[0;34m:\u001b[0m\u001b[0;34m\u001b[0m\u001b[0;34m\u001b[0m\u001b[0m\n\u001b[0;32m--> 532\u001b[0;31m             \u001b[0mresult\u001b[0m \u001b[0;34m=\u001b[0m \u001b[0mself\u001b[0m\u001b[0;34m.\u001b[0m\u001b[0mforward\u001b[0m\u001b[0;34m(\u001b[0m\u001b[0;34m*\u001b[0m\u001b[0minput\u001b[0m\u001b[0;34m,\u001b[0m \u001b[0;34m**\u001b[0m\u001b[0mkwargs\u001b[0m\u001b[0;34m)\u001b[0m\u001b[0;34m\u001b[0m\u001b[0;34m\u001b[0m\u001b[0m\n\u001b[0m\u001b[1;32m    533\u001b[0m         \u001b[0;32mfor\u001b[0m \u001b[0mhook\u001b[0m \u001b[0;32min\u001b[0m \u001b[0mself\u001b[0m\u001b[0;34m.\u001b[0m\u001b[0m_forward_hooks\u001b[0m\u001b[0;34m.\u001b[0m\u001b[0mvalues\u001b[0m\u001b[0;34m(\u001b[0m\u001b[0;34m)\u001b[0m\u001b[0;34m:\u001b[0m\u001b[0;34m\u001b[0m\u001b[0;34m\u001b[0m\u001b[0m\n\u001b[1;32m    534\u001b[0m             \u001b[0mhook_result\u001b[0m \u001b[0;34m=\u001b[0m \u001b[0mhook\u001b[0m\u001b[0;34m(\u001b[0m\u001b[0mself\u001b[0m\u001b[0;34m,\u001b[0m \u001b[0minput\u001b[0m\u001b[0;34m,\u001b[0m \u001b[0mresult\u001b[0m\u001b[0;34m)\u001b[0m\u001b[0;34m\u001b[0m\u001b[0;34m\u001b[0m\u001b[0m\n",
      "\u001b[0;32m~/helmholtz/cvae/coding/modules/condlayers.py\u001b[0m in \u001b[0;36mforward\u001b[0;34m(self, x)\u001b[0m\n\u001b[1;32m     21\u001b[0m         \u001b[0;32melse\u001b[0m\u001b[0;34m:\u001b[0m\u001b[0;34m\u001b[0m\u001b[0;34m\u001b[0m\u001b[0m\n\u001b[1;32m     22\u001b[0m             \u001b[0mexpr\u001b[0m\u001b[0;34m,\u001b[0m \u001b[0mcond\u001b[0m \u001b[0;34m=\u001b[0m \u001b[0mtorch\u001b[0m\u001b[0;34m.\u001b[0m\u001b[0msplit\u001b[0m\u001b[0;34m(\u001b[0m\u001b[0mx\u001b[0m\u001b[0;34m,\u001b[0m \u001b[0;34m[\u001b[0m\u001b[0mx\u001b[0m\u001b[0;34m.\u001b[0m\u001b[0mshape\u001b[0m\u001b[0;34m[\u001b[0m\u001b[0;36m1\u001b[0m\u001b[0;34m]\u001b[0m \u001b[0;34m-\u001b[0m \u001b[0mself\u001b[0m\u001b[0;34m.\u001b[0m\u001b[0mn_cond\u001b[0m\u001b[0;34m,\u001b[0m \u001b[0mself\u001b[0m\u001b[0;34m.\u001b[0m\u001b[0mn_cond\u001b[0m\u001b[0;34m]\u001b[0m\u001b[0;34m,\u001b[0m \u001b[0mdim\u001b[0m\u001b[0;34m=\u001b[0m\u001b[0;36m1\u001b[0m\u001b[0;34m)\u001b[0m\u001b[0;34m\u001b[0m\u001b[0;34m\u001b[0m\u001b[0m\n\u001b[0;32m---> 23\u001b[0;31m             \u001b[0mout\u001b[0m \u001b[0;34m=\u001b[0m \u001b[0mself\u001b[0m\u001b[0;34m.\u001b[0m\u001b[0mexpr_L\u001b[0m\u001b[0;34m(\u001b[0m\u001b[0mexpr\u001b[0m\u001b[0;34m)\u001b[0m \u001b[0;34m+\u001b[0m \u001b[0mself\u001b[0m\u001b[0;34m.\u001b[0m\u001b[0mcond_L\u001b[0m\u001b[0;34m(\u001b[0m\u001b[0mcond\u001b[0m\u001b[0;34m)\u001b[0m\u001b[0;34m\u001b[0m\u001b[0;34m\u001b[0m\u001b[0m\n\u001b[0m\u001b[1;32m     24\u001b[0m         \u001b[0;32mreturn\u001b[0m \u001b[0mout\u001b[0m\u001b[0;34m\u001b[0m\u001b[0;34m\u001b[0m\u001b[0m\n",
      "\u001b[0;32m~/anaconda3/envs/cvae/lib/python3.7/site-packages/torch/nn/modules/module.py\u001b[0m in \u001b[0;36m__call__\u001b[0;34m(self, *input, **kwargs)\u001b[0m\n\u001b[1;32m    530\u001b[0m             \u001b[0mresult\u001b[0m \u001b[0;34m=\u001b[0m \u001b[0mself\u001b[0m\u001b[0;34m.\u001b[0m\u001b[0m_slow_forward\u001b[0m\u001b[0;34m(\u001b[0m\u001b[0;34m*\u001b[0m\u001b[0minput\u001b[0m\u001b[0;34m,\u001b[0m \u001b[0;34m**\u001b[0m\u001b[0mkwargs\u001b[0m\u001b[0;34m)\u001b[0m\u001b[0;34m\u001b[0m\u001b[0;34m\u001b[0m\u001b[0m\n\u001b[1;32m    531\u001b[0m         \u001b[0;32melse\u001b[0m\u001b[0;34m:\u001b[0m\u001b[0;34m\u001b[0m\u001b[0;34m\u001b[0m\u001b[0m\n\u001b[0;32m--> 532\u001b[0;31m             \u001b[0mresult\u001b[0m \u001b[0;34m=\u001b[0m \u001b[0mself\u001b[0m\u001b[0;34m.\u001b[0m\u001b[0mforward\u001b[0m\u001b[0;34m(\u001b[0m\u001b[0;34m*\u001b[0m\u001b[0minput\u001b[0m\u001b[0;34m,\u001b[0m \u001b[0;34m**\u001b[0m\u001b[0mkwargs\u001b[0m\u001b[0;34m)\u001b[0m\u001b[0;34m\u001b[0m\u001b[0;34m\u001b[0m\u001b[0m\n\u001b[0m\u001b[1;32m    533\u001b[0m         \u001b[0;32mfor\u001b[0m \u001b[0mhook\u001b[0m \u001b[0;32min\u001b[0m \u001b[0mself\u001b[0m\u001b[0;34m.\u001b[0m\u001b[0m_forward_hooks\u001b[0m\u001b[0;34m.\u001b[0m\u001b[0mvalues\u001b[0m\u001b[0;34m(\u001b[0m\u001b[0;34m)\u001b[0m\u001b[0;34m:\u001b[0m\u001b[0;34m\u001b[0m\u001b[0;34m\u001b[0m\u001b[0m\n\u001b[1;32m    534\u001b[0m             \u001b[0mhook_result\u001b[0m \u001b[0;34m=\u001b[0m \u001b[0mhook\u001b[0m\u001b[0;34m(\u001b[0m\u001b[0mself\u001b[0m\u001b[0;34m,\u001b[0m \u001b[0minput\u001b[0m\u001b[0;34m,\u001b[0m \u001b[0mresult\u001b[0m\u001b[0;34m)\u001b[0m\u001b[0;34m\u001b[0m\u001b[0;34m\u001b[0m\u001b[0m\n",
      "\u001b[0;32m~/anaconda3/envs/cvae/lib/python3.7/site-packages/torch/nn/modules/linear.py\u001b[0m in \u001b[0;36mforward\u001b[0;34m(self, input)\u001b[0m\n\u001b[1;32m     85\u001b[0m \u001b[0;34m\u001b[0m\u001b[0m\n\u001b[1;32m     86\u001b[0m     \u001b[0;32mdef\u001b[0m \u001b[0mforward\u001b[0m\u001b[0;34m(\u001b[0m\u001b[0mself\u001b[0m\u001b[0;34m,\u001b[0m \u001b[0minput\u001b[0m\u001b[0;34m)\u001b[0m\u001b[0;34m:\u001b[0m\u001b[0;34m\u001b[0m\u001b[0;34m\u001b[0m\u001b[0m\n\u001b[0;32m---> 87\u001b[0;31m         \u001b[0;32mreturn\u001b[0m \u001b[0mF\u001b[0m\u001b[0;34m.\u001b[0m\u001b[0mlinear\u001b[0m\u001b[0;34m(\u001b[0m\u001b[0minput\u001b[0m\u001b[0;34m,\u001b[0m \u001b[0mself\u001b[0m\u001b[0;34m.\u001b[0m\u001b[0mweight\u001b[0m\u001b[0;34m,\u001b[0m \u001b[0mself\u001b[0m\u001b[0;34m.\u001b[0m\u001b[0mbias\u001b[0m\u001b[0;34m)\u001b[0m\u001b[0;34m\u001b[0m\u001b[0;34m\u001b[0m\u001b[0m\n\u001b[0m\u001b[1;32m     88\u001b[0m \u001b[0;34m\u001b[0m\u001b[0m\n\u001b[1;32m     89\u001b[0m     \u001b[0;32mdef\u001b[0m \u001b[0mextra_repr\u001b[0m\u001b[0;34m(\u001b[0m\u001b[0mself\u001b[0m\u001b[0;34m)\u001b[0m\u001b[0;34m:\u001b[0m\u001b[0;34m\u001b[0m\u001b[0;34m\u001b[0m\u001b[0m\n",
      "\u001b[0;32m~/anaconda3/envs/cvae/lib/python3.7/site-packages/torch/nn/functional.py\u001b[0m in \u001b[0;36mlinear\u001b[0;34m(input, weight, bias)\u001b[0m\n\u001b[1;32m   1368\u001b[0m     \u001b[0;32mif\u001b[0m \u001b[0minput\u001b[0m\u001b[0;34m.\u001b[0m\u001b[0mdim\u001b[0m\u001b[0;34m(\u001b[0m\u001b[0;34m)\u001b[0m \u001b[0;34m==\u001b[0m \u001b[0;36m2\u001b[0m \u001b[0;32mand\u001b[0m \u001b[0mbias\u001b[0m \u001b[0;32mis\u001b[0m \u001b[0;32mnot\u001b[0m \u001b[0;32mNone\u001b[0m\u001b[0;34m:\u001b[0m\u001b[0;34m\u001b[0m\u001b[0;34m\u001b[0m\u001b[0m\n\u001b[1;32m   1369\u001b[0m         \u001b[0;31m# fused op is marginally faster\u001b[0m\u001b[0;34m\u001b[0m\u001b[0;34m\u001b[0m\u001b[0;34m\u001b[0m\u001b[0m\n\u001b[0;32m-> 1370\u001b[0;31m         \u001b[0mret\u001b[0m \u001b[0;34m=\u001b[0m \u001b[0mtorch\u001b[0m\u001b[0;34m.\u001b[0m\u001b[0maddmm\u001b[0m\u001b[0;34m(\u001b[0m\u001b[0mbias\u001b[0m\u001b[0;34m,\u001b[0m \u001b[0minput\u001b[0m\u001b[0;34m,\u001b[0m \u001b[0mweight\u001b[0m\u001b[0;34m.\u001b[0m\u001b[0mt\u001b[0m\u001b[0;34m(\u001b[0m\u001b[0;34m)\u001b[0m\u001b[0;34m)\u001b[0m\u001b[0;34m\u001b[0m\u001b[0;34m\u001b[0m\u001b[0m\n\u001b[0m\u001b[1;32m   1371\u001b[0m     \u001b[0;32melse\u001b[0m\u001b[0;34m:\u001b[0m\u001b[0;34m\u001b[0m\u001b[0;34m\u001b[0m\u001b[0m\n\u001b[1;32m   1372\u001b[0m         \u001b[0moutput\u001b[0m \u001b[0;34m=\u001b[0m \u001b[0minput\u001b[0m\u001b[0;34m.\u001b[0m\u001b[0mmatmul\u001b[0m\u001b[0;34m(\u001b[0m\u001b[0mweight\u001b[0m\u001b[0;34m.\u001b[0m\u001b[0mt\u001b[0m\u001b[0;34m(\u001b[0m\u001b[0;34m)\u001b[0m\u001b[0;34m)\u001b[0m\u001b[0;34m\u001b[0m\u001b[0;34m\u001b[0m\u001b[0m\n",
      "\u001b[0;31mRuntimeError\u001b[0m: size mismatch, m1: [128 x 1600], m2: [5000 x 256] at /opt/conda/conda-bld/pytorch_1579022060824/work/aten/src/TH/generic/THTensorMath.cpp:136"
     ]
    }
   ],
   "source": [
    "model.train()"
   ]
  }
 ],
 "metadata": {
  "interpreter": {
   "hash": "60fb07a88012c10197e295dfbb94d8060cc98f66af2fdacccb693aa81ea6c8d9"
  },
  "kernelspec": {
   "display_name": "Python 3.7.12 64-bit ('cvae': conda)",
   "language": "python",
   "name": "python3"
  },
  "language_info": {
   "codemirror_mode": {
    "name": "ipython",
    "version": 3
   },
   "file_extension": ".py",
   "mimetype": "text/x-python",
   "name": "python",
   "nbconvert_exporter": "python",
   "pygments_lexer": "ipython3",
   "version": "3.7.12"
  }
 },
 "nbformat": 4,
 "nbformat_minor": 2
}
